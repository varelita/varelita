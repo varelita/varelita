{
  "cells": [
    {
      "cell_type": "markdown",
      "metadata": {
        "id": "view-in-github",
        "colab_type": "text"
      },
      "source": [
        "<a href=\"https://colab.research.google.com/github/varelita/varelita/blob/main/MachineLerning_EDA.ipynb\" target=\"_parent\"><img src=\"https://colab.research.google.com/assets/colab-badge.svg\" alt=\"Open In Colab\"/></a>"
      ]
    },
    {
      "cell_type": "code",
      "execution_count": 2,
      "id": "e5d7d263",
      "metadata": {
        "colab": {
          "base_uri": "https://localhost:8080/"
        },
        "id": "e5d7d263",
        "outputId": "711ec31b-2009-4802-86ce-4168ab6a1f04"
      },
      "outputs": [
        {
          "output_type": "stream",
          "name": "stdout",
          "text": [
            "/bin/bash: conda: command not found\n"
          ]
        }
      ],
      "source": [
        "!conda list anaconda$"
      ]
    },
    {
      "cell_type": "code",
      "execution_count": 3,
      "id": "deab5762",
      "metadata": {
        "colab": {
          "base_uri": "https://localhost:8080/",
          "height": 130
        },
        "id": "deab5762",
        "outputId": "32a674d7-2825-41ea-9593-141e801d3372"
      },
      "outputs": [
        {
          "output_type": "error",
          "ename": "SyntaxError",
          "evalue": "ignored",
          "traceback": [
            "\u001b[0;36m  File \u001b[0;32m\"<ipython-input-3-e68b01e0cedf>\"\u001b[0;36m, line \u001b[0;32m1\u001b[0m\n\u001b[0;31m    conda list\u001b[0m\n\u001b[0m             ^\u001b[0m\n\u001b[0;31mSyntaxError\u001b[0m\u001b[0;31m:\u001b[0m invalid syntax\n"
          ]
        }
      ],
      "source": [
        "conda list \n",
        "#Muestra todos los paquetes instalados en el entorno actual"
      ]
    },
    {
      "cell_type": "code",
      "execution_count": null,
      "id": "d745f50f",
      "metadata": {
        "id": "d745f50f"
      },
      "outputs": [],
      "source": [
        "pip install scipy "
      ]
    },
    {
      "cell_type": "code",
      "execution_count": null,
      "id": "0835fd4d",
      "metadata": {
        "id": "0835fd4d"
      },
      "outputs": [],
      "source": [
        "pip install sklearn"
      ]
    },
    {
      "cell_type": "code",
      "execution_count": 4,
      "id": "b3a5a828",
      "metadata": {
        "colab": {
          "base_uri": "https://localhost:8080/"
        },
        "id": "b3a5a828",
        "outputId": "8519b0d9-66e0-4f49-d90f-4429b4fb3f76"
      },
      "outputs": [
        {
          "output_type": "stream",
          "name": "stdout",
          "text": [
            "scipy: 1.4.1\n",
            "numpy: 1.21.6\n",
            "matplotlib: 3.2.2\n",
            "pandas: 1.3.5\n",
            "statsmodels: 0.10.2\n",
            "sklearn: 1.0.2\n"
          ]
        }
      ],
      "source": [
        "#Para confirmar que todo funciona bien, crearemos un archivo de texto para escribir un breve scriptde python. Nombra al archivo versiones.py y su contenido será:\n",
        "# scipy\n",
        "import scipy\n",
        "print('scipy: %s' % scipy.__version__)\n",
        "# numpy\n",
        "import numpy\n",
        "print('numpy: %s' % numpy.__version__)\n",
        "\n",
        "# matplotlib\n",
        "import matplotlib\n",
        "print('matplotlib: %s' % matplotlib.__version__)\n",
        " # pandas\n",
        "import pandas\n",
        "print('pandas: %s' % pandas.__version__)\n",
        "# statsmodels\n",
        "import statsmodels\n",
        "print('statsmodels: %s' % statsmodels.__version__)\n",
        "# scikit-learn\n",
        "import sklearn\n",
        "print('sklearn: %s' % sklearn.__version__)"
      ]
    },
    {
      "cell_type": "markdown",
      "id": "c8592e84",
      "metadata": {
        "id": "c8592e84"
      },
      "source": [
        " 4. Actualizar libreria scikit-learn\n",
        "En este paso actualizaremos la librería más usada para Machine Learning en python llamada ScikitLearn\n",
        "En la Terminal escribiremos"
      ]
    },
    {
      "cell_type": "code",
      "execution_count": null,
      "id": "b1a74e30",
      "metadata": {
        "id": "b1a74e30"
      },
      "outputs": [],
      "source": [
        "conda update scikit-learn"
      ]
    },
    {
      "cell_type": "code",
      "execution_count": null,
      "id": "efefe970",
      "metadata": {
        "id": "efefe970"
      },
      "outputs": [],
      "source": [
        "conda list "
      ]
    },
    {
      "cell_type": "code",
      "execution_count": null,
      "id": "975358b2",
      "metadata": {
        "id": "975358b2"
      },
      "outputs": [],
      "source": [
        "conda install -c conda-forge tensorflow"
      ]
    },
    {
      "cell_type": "code",
      "execution_count": null,
      "id": "b7fe0bf6",
      "metadata": {
        "id": "b7fe0bf6"
      },
      "outputs": [],
      "source": [
        "pip install keras"
      ]
    },
    {
      "cell_type": "code",
      "execution_count": 5,
      "id": "5f74293d",
      "metadata": {
        "colab": {
          "base_uri": "https://localhost:8080/"
        },
        "id": "5f74293d",
        "outputId": "0f8a7000-d4d1-4741-cab6-e1d1776067c5"
      },
      "outputs": [
        {
          "output_type": "stream",
          "name": "stdout",
          "text": [
            "tensorflow: 2.8.0\n",
            "keras: 2.8.0\n"
          ]
        }
      ],
      "source": [
        "#Y crearemos un nuevo script para probar que se instalaron correctamente. Le llamaremos versiones_-deep.py y tendrá las siguientes lineas:\n",
        "# tensorflow\n",
        "import tensorflow\n",
        "print('tensorflow: %s' % tensorflow.__version__)\n",
        "# keras\n",
        "import keras\n",
        "print('keras: %s' % keras.__version__)"
      ]
    },
    {
      "cell_type": "markdown",
      "id": "bc9cf33e",
      "metadata": {
        "id": "bc9cf33e"
      },
      "source": [
        "**Análisis Exploratorio de Datos**\n",
        "Veremos de qué se trata el EDA, este paso inicial tan importante y necesario para comenzar\n",
        "un proyecto de Machine Learning. Aprendamos en qué consiste el EDA y qué técnicas utilizar.\n",
        "Veremos un ejemplo práctico y la manipulación de datos con Python utilizando la librería Pandas\n",
        "para analizar y Visualizar la información en pocos minutos.\n"
      ]
    },
    {
      "cell_type": "markdown",
      "id": "005642df",
      "metadata": {
        "id": "005642df"
      },
      "source": [
        "**¿Qué es el EDA?**\n",
        "EDA es la sigla en inglés para Exploratory Data Analysis y consiste en una de las primeras tareas que\n",
        "tiene que desempeñar el Científico de Datos. Es cuando revisamos por primera vez los datos que nos\n",
        "llegan, por ejemplo un archivo CSV y deberemos intentar comprender “¿de qué se trata?”, vislumbrar\n",
        "posibles patrones y reconocer distribuciones estadísticas que puedan ser útiles en el futuro.\n",
        "Lo ideal es que tengamos un objetivo que nos hayan “adjuntado” con los datos, que indique lo\n",
        "que se quiere conseguir a partir de ellos. Por ejemplo, nos pasan un excel y nos dicen “Queremos\n",
        "predecir ventas¹¹ a 30 días”, ó “Clasificar¹² casos malignos/benignos de una enfermedad”, “Queremos\n",
        "identificar audiencias¹³ que van a realizar re-compra de un producto”, “queremos hacer pronóstico¹⁴\n",
        "de fidelización/abandonos de clientes”, “Quiero detectar casos de fraude¹⁵ en mi sistema en tiempo\n",
        "real”."
      ]
    },
    {
      "cell_type": "markdown",
      "id": "bab7fdfe",
      "metadata": {
        "id": "bab7fdfe"
      },
      "source": [
        "EDA deconstruido\n",
        "Al llegar un archivo, lo primero que deberíamos hacer es intentar responder:\n",
        "• ¿Cuántos registros hay?\n",
        "– ¿Son pocos?\n",
        "– ¿Son muchos y no tenemos Capacidad (CPU+RAM) suficiente para procesarlo?\n",
        "– ¿Están todas las filas completas ó tenemos campos con valores nulos?\n",
        "– En caso que haya demasiados nulos: ¿Queda el resto de información inútil?\n",
        "• ¿Qué datos son discretos y cuáles continuos?\n",
        "• Muchas veces sirve distinguir el tipo de datos: texto, int, double, float\n",
        "• Si es un problema de tipo supervisado:\n",
        "– ¿Cuál es la columna de “salida”? ¿binaria, multiclase?\n",
        "– ¿Esta balanceado el conjunto salida?\n",
        "• ¿Cuales parecen ser features importantes? ¿Cuales podemos descartar?\n",
        "• ¿Siguen alguna distribución?\n",
        "• ¿Hay correlación entre features (características)?\n",
        "• En problemas de NLP¹⁶ es frecuente que existan categorías repetidas ó mal tipeadas, ó con\n",
        "mayusculas/minúsculas, singular y plural, por ejemplo “Abogado” y “Abogadas”, “avogado”\n",
        "pertenecerían todos a un mismo conjunto.\n",
        "• ¿Estamos ante un problema dependiente del tiempo? Es decir un TimeSeries¹⁷.\n",
        "• Si fuera un problema de Visión Artificial¹⁸: ¿Tenemos suficientes muestras de cada clase y\n",
        "variedad, para poder hacer generalizar un modelo de Machine Learning?\n",
        "• ¿Cuales son los Outliers¹⁹? (unos pocos datos aislados que difieren drásticamente del resto y\n",
        "“contaminan” ó desvían las distribuciones)\n",
        "– Podemos eliminarlos? es importante conservarlos?\n",
        "– son errores de carga o son reales?\n",
        "• ¿Tenemos posible sesgo de datos? (por ejemplo perjudicar a clases minoritarias²⁰ por no\n",
        "incluirlas y que el modelo de ML discrimine en sus predicciones)\n",
        "\n",
        "Puede ocurrir que tengamos set de datos incompletos y debamos pedir a nuestro cliente/proveedor\n",
        "ó interesado que nos brinde mayor información de los campos, que aporte más conocimiento ó que\n",
        "corrija campos.\n",
        "También puede ocurrir que nos pasen múltiples fuentes de datos, por ejemplo un csv, un excel y el\n",
        "acceso a una base de datos. Entonces tendremos que hacer un paso previo de unificación de datos."
      ]
    },
    {
      "cell_type": "markdown",
      "id": "913b50e2",
      "metadata": {
        "id": "913b50e2"
      },
      "source": [
        "**¿Qué sacamos del EDA?**\n",
        "El EDA será entonces una primer aproximación a los datos, ATENCIóN, si estamos mas o menos bien\n",
        "preparados y suponiendo una muestra de datos “suficiente”, puede que en “unas horas” tengamos\n",
        "ya varias conclusiones como por ejemplo:\n",
        "• Esto que quiere hacer el cliente CON ESTOS DATOS es una locura imposible!\n",
        "• No tenemos datos suficientes ó son de muy mala calidad, pedir más al cliente.\n",
        "• Un modelo de tipo Arbol²¹ es lo más recomendado usar\n",
        "– (reemplazar Arbol, por el tipo de modelo que hayamos descubierto como mejor opción!)\n",
        "• No hace falta usar Machine Learning para resolver lo que pide el cliente. (ESTO ES MUY\n",
        "IMPORTANTE!)\n",
        "• Es todo tan aleatorio que no habrá manera de detectar patrones.\n",
        "• Hay datos suficientes y de buena calidad como para seguir a la próxima etapa.\n",
        "A estas alturas podemos saber si nos están pidiendo algo viable ó si necesitamos más datos para\n",
        "comenzar.\n",
        "Repito: el EDA debe tomar horas, ó puede que un día, pero la idea es poder sacar algunas conclusiones\n",
        "rápidas para contestar al cliente si podemos seguir o no con su propuesta.\n",
        "Luego del EDA, suponiendo que seguimos adelante podemos tomarnos más tiempo y analizar en\n",
        "mayor detalle los datos y avanzar a nuevas etapas para aplicar modelos de Machine Learning²²."
      ]
    },
    {
      "cell_type": "markdown",
      "id": "7b9bf437",
      "metadata": {
        "id": "7b9bf437"
      },
      "source": [
        "**Técnicas para EDA**\n",
        "Vamos a lo práctico!, ¿Que herramientas tenemos hoy en día? La verdad es que como cada conjunto\n",
        "de datos suele ser único, el EDA se hace bastante “a mano”, pero podemos seguir unos pasos\n",
        "ordenados para acercarnos a ese objetivo que nos pide el cliente en pocas horas.\n",
        "A nivel programación y como vamos a utilizar Python, encontramos a la conocida librería Pandas,\n",
        "que nos ayudará a manipular datos, leer y transformarlos.\n",
        "Otra de las técnicas que más nos ayudaran en el EDA es la visualización de datos (que también\n",
        "podemos hacer con Pandas, matplotlib y/o Plotly).\n",
        "Finalmente podemos decir que nuestra Intuición -basada en Experiencia previa, no en corazonadasy nuestro conocimiento de casos similares también nos pueden aportar pistas para saber si estamos\n",
        "ante datos de buena calidad. Por ejemplo si alguien quiere hacer reconocimiento de imágenes de\n",
        "tornillos y tiene 25 imágenes y con mala resolución podremos decir que no tenemos muestras\n",
        "suficientes -dado nuestro conocimiento previo de este campo-.\n",
        "Vamos a la práctica!"
      ]
    },
    {
      "cell_type": "markdown",
      "id": "af5a979e",
      "metadata": {
        "id": "af5a979e"
      },
      "source": [
        "**Análisis Exploratorio de Datos **\n",
        "**Un EDA de pocos minutos con Pandas**\n",
        "Vamos a hacer un ejemplo en pandas de un EDA bastante sencillo pero con fines educativos.\n",
        "Vamos a leer un csv directamente desde una URL de GitHub que contiene información geográfica\n",
        "básica de los países del mundo y vamos a jugar un poco con esos datos."
      ]
    },
    {
      "cell_type": "code",
      "execution_count": null,
      "id": "0891a033",
      "metadata": {
        "id": "0891a033"
      },
      "outputs": [],
      "source": [
        "pip install matplotlib"
      ]
    },
    {
      "cell_type": "code",
      "execution_count": 6,
      "id": "73dcb51f",
      "metadata": {
        "colab": {
          "base_uri": "https://localhost:8080/"
        },
        "id": "73dcb51f",
        "outputId": "e2f0cf9d-d2ba-4a4e-c9ac-b4863898f975"
      },
      "outputs": [
        {
          "output_type": "stream",
          "name": "stderr",
          "text": [
            "/usr/local/lib/python3.7/dist-packages/statsmodels/tools/_testing.py:19: FutureWarning: pandas.util.testing is deprecated. Use the functions in the public API at pandas.testing instead.\n",
            "  import pandas.util.testing as tm\n"
          ]
        }
      ],
      "source": [
        "import pandas as pd\n",
        "import numpy as np\n",
        "import matplotlib.pyplot as plt\n",
        "import statsmodels.api as sm\n"
      ]
    },
    {
      "cell_type": "markdown",
      "id": "1466222a",
      "metadata": {
        "id": "1466222a"
      },
      "source": [
        "Carga de archivo csv desde una URL\n",
        "¿Qué hace DF Head?\n",
        "df. head(n) : Devuelve las n primeras filas del DataFrame df . df. tail(n) : Devuelve las n últimas filas del DataFrame df ."
      ]
    },
    {
      "cell_type": "code",
      "execution_count": 7,
      "id": "5469d4d1",
      "metadata": {
        "colab": {
          "base_uri": "https://localhost:8080/"
        },
        "id": "5469d4d1",
        "outputId": "97825ef9-5cb3-4899-df5e-30d7410bf521"
      },
      "outputs": [
        {
          "output_type": "stream",
          "name": "stdout",
          "text": [
            "  alpha_2 alpha_3        area           capital continent currency_code  \\\n",
            "0      AD     AND       468.0  Andorra la Vella        EU           EUR   \n",
            "1      AE     ARE     82880.0         Abu Dhabi        AS           AED   \n",
            "2      AF     AFG    647500.0             Kabul        AS           AFN   \n",
            "3      AG     ATG       443.0        St. John's       NaN           XCD   \n",
            "4      AI     AIA       102.0        The Valley       NaN           XCD   \n",
            "5      AL     ALB     28748.0            Tirana        EU           ALL   \n",
            "6      AM     ARM     29800.0           Yerevan        AS           AMD   \n",
            "7      AO     AGO   1246700.0            Luanda        AF           AOA   \n",
            "8      AQ     ATA  14000000.0               NaN        AN           NaN   \n",
            "9      AR     ARG   2766890.0      Buenos Aires        SA           ARS   \n",
            "\n",
            "  currency_name eqivalent_fips_code fips  geoname_id             languages  \\\n",
            "0          Euro                 NaN   AN     3041565                    ca   \n",
            "1        Dirham                 NaN   AE      290557     ar-AE,fa,en,hi,ur   \n",
            "2       Afghani                 NaN   AF     1149361     fa-AF,ps,uz-AF,tk   \n",
            "3        Dollar                 NaN   AC     3576396                 en-AG   \n",
            "4        Dollar                 NaN   AV     3573511                 en-AI   \n",
            "5           Lek                 NaN   AL      783754                 sq,el   \n",
            "6          Dram                 NaN   AM      174982                    hy   \n",
            "7        Kwanza                 NaN   AO     3351879                 pt-AO   \n",
            "8           NaN                 NaN   AY     6697173                   NaN   \n",
            "9          Peso                 NaN   AR     3865483  es-AR,en,it,de,fr,gn   \n",
            "\n",
            "                   name         neighbours  numeric   phone  population  \\\n",
            "0               Andorra              ES,FR       20     376       84000   \n",
            "1  United Arab Emirates              SA,OM      784     971     4975593   \n",
            "2           Afghanistan  TM,CN,IR,TJ,PK,UZ        4      93    29121286   \n",
            "3   Antigua and Barbuda                NaN       28  +1-268       86754   \n",
            "4              Anguilla                NaN      660  +1-264       13254   \n",
            "5               Albania     MK,GR,ME,RS,XK        8     355     2986952   \n",
            "6               Armenia        GE,IR,AZ,TR       51     374     2968000   \n",
            "7                Angola        CD,NA,ZM,CG       24     244    13068161   \n",
            "8            Antarctica                NaN       10     NaN           0   \n",
            "9             Argentina     CL,BO,UY,PY,BR       32      54    41343201   \n",
            "\n",
            "  postal_code_format        postal_code_regex  tld  \n",
            "0              AD###         ^(?:AD)*(\\d{3})$  .ad  \n",
            "1                NaN                      NaN  .ae  \n",
            "2                NaN                      NaN  .af  \n",
            "3                NaN                      NaN  .ag  \n",
            "4                NaN                      NaN  .ai  \n",
            "5                NaN                      NaN  .al  \n",
            "6             ######                ^(\\d{6})$  .am  \n",
            "7                NaN                      NaN  .ao  \n",
            "8                NaN                      NaN  .aq  \n",
            "9           @####@@@  ^[A-Z]?\\d{4}[A-Z]{0,3}$  .ar  \n"
          ]
        }
      ],
      "source": [
        "url = 'https://raw.githubusercontent.com/lorey/list-of-countries/master/csv/countries.csv'\n",
        "df = pd.read_csv(url, sep=\";\") #index_col=0 El método Pandas read_csv() lee el archivo de valores separados por comas ( CSV ) especificado en el DataFrame\n",
        "print(df.head(10))"
      ]
    },
    {
      "cell_type": "markdown",
      "id": "73a14501",
      "metadata": {
        "id": "73a14501"
      },
      "source": [
        "Conocer información básica\n",
        "df. shape : Devuelve una tupla con el número de filas y columnas del DataFrame df . df. size : Devuelve el número de elementos del DataFrame."
      ]
    },
    {
      "cell_type": "code",
      "execution_count": 8,
      "id": "91da7ae3",
      "metadata": {
        "colab": {
          "base_uri": "https://localhost:8080/"
        },
        "id": "91da7ae3",
        "outputId": "b30a0e8b-1ee2-4780-83ef-e8cfd0b3632f"
      },
      "outputs": [
        {
          "output_type": "stream",
          "name": "stdout",
          "text": [
            "Cantidad de Filas y columnas: (252, 19)\n",
            "Nombre columnas: Index(['alpha_2', 'alpha_3', 'area', 'capital', 'continent', 'currency_code',\n",
            "       'currency_name', 'eqivalent_fips_code', 'fips', 'geoname_id',\n",
            "       'languages', 'name', 'neighbours', 'numeric', 'phone', 'population',\n",
            "       'postal_code_format', 'postal_code_regex', 'tld'],\n",
            "      dtype='object')\n",
            "numeros de elementos del DateaFrame: 4788\n"
          ]
        }
      ],
      "source": [
        "print('Cantidad de Filas y columnas:',df.shape)\n",
        "print('Nombre columnas:',df.columns)\n",
        "print (\"numeros de elementos del DateaFrame:\", df. size )"
      ]
    },
    {
      "cell_type": "code",
      "execution_count": 9,
      "id": "1be3d394",
      "metadata": {
        "colab": {
          "base_uri": "https://localhost:8080/"
        },
        "id": "1be3d394",
        "outputId": "ecd66008-3cb2-457f-8ead-e50259198d9f"
      },
      "outputs": [
        {
          "output_type": "stream",
          "name": "stdout",
          "text": [
            "<class 'pandas.core.frame.DataFrame'>\n",
            "RangeIndex: 252 entries, 0 to 251\n",
            "Data columns (total 19 columns):\n",
            " #   Column               Non-Null Count  Dtype  \n",
            "---  ------               --------------  -----  \n",
            " 0   alpha_2              251 non-null    object \n",
            " 1   alpha_3              252 non-null    object \n",
            " 2   area                 252 non-null    float64\n",
            " 3   capital              246 non-null    object \n",
            " 4   continent            210 non-null    object \n",
            " 5   currency_code        251 non-null    object \n",
            " 6   currency_name        251 non-null    object \n",
            " 7   eqivalent_fips_code  1 non-null      object \n",
            " 8   fips                 249 non-null    object \n",
            " 9   geoname_id           252 non-null    int64  \n",
            " 10  languages            249 non-null    object \n",
            " 11  name                 252 non-null    object \n",
            " 12  neighbours           165 non-null    object \n",
            " 13  numeric              252 non-null    int64  \n",
            " 14  phone                247 non-null    object \n",
            " 15  population           252 non-null    int64  \n",
            " 16  postal_code_format   154 non-null    object \n",
            " 17  postal_code_regex    152 non-null    object \n",
            " 18  tld                  250 non-null    object \n",
            "dtypes: float64(1), int64(3), object(15)\n",
            "memory usage: 37.5+ KB\n"
          ]
        }
      ],
      "source": [
        "#df.info() : Devuelve información (número de filas, número de columnas, índices, tipo de las columnas y memoria usado) sobre el DataFrame df \n",
        "#Columnas, nulos y tipo de datos\n",
        "df.info()\n",
        "\n",
        "#En esta salida vemos las columnas, el total de filas y la cantidad de filas sin nulos. También los tipos de datos.\n"
      ]
    },
    {
      "cell_type": "markdown",
      "id": "1445771b",
      "metadata": {
        "id": "1445771b"
      },
      "source": [
        "Descripción estadística de los datos numéricos"
      ]
    },
    {
      "cell_type": "code",
      "execution_count": 10,
      "id": "f28b51ae",
      "metadata": {
        "colab": {
          "base_uri": "https://localhost:8080/",
          "height": 300
        },
        "id": "f28b51ae",
        "outputId": "d69dbec4-1d5d-4f4b-c06d-25582d77d655"
      },
      "outputs": [
        {
          "output_type": "execute_result",
          "data": {
            "text/plain": [
              "               area    geoname_id     numeric    population\n",
              "count  2.520000e+02  2.520000e+02  252.000000  2.520000e+02\n",
              "mean   5.952879e+05  2.427870e+06  434.309524  2.727679e+07\n",
              "std    1.904818e+06  1.632093e+06  254.663139  1.164127e+08\n",
              "min    0.000000e+00  4.951800e+04    0.000000  0.000000e+00\n",
              "25%    1.098000e+03  1.163774e+06  217.000000  1.879528e+05\n",
              "50%    6.489450e+04  2.367967e+06  436.000000  4.268583e+06\n",
              "75%    3.622245e+05  3.478296e+06  652.500000  1.536688e+07\n",
              "max    1.710000e+07  8.505033e+06  894.000000  1.330044e+09"
            ],
            "text/html": [
              "\n",
              "  <div id=\"df-a85cf879-d071-4ee7-a4cc-adbfeb293bcb\">\n",
              "    <div class=\"colab-df-container\">\n",
              "      <div>\n",
              "<style scoped>\n",
              "    .dataframe tbody tr th:only-of-type {\n",
              "        vertical-align: middle;\n",
              "    }\n",
              "\n",
              "    .dataframe tbody tr th {\n",
              "        vertical-align: top;\n",
              "    }\n",
              "\n",
              "    .dataframe thead th {\n",
              "        text-align: right;\n",
              "    }\n",
              "</style>\n",
              "<table border=\"1\" class=\"dataframe\">\n",
              "  <thead>\n",
              "    <tr style=\"text-align: right;\">\n",
              "      <th></th>\n",
              "      <th>area</th>\n",
              "      <th>geoname_id</th>\n",
              "      <th>numeric</th>\n",
              "      <th>population</th>\n",
              "    </tr>\n",
              "  </thead>\n",
              "  <tbody>\n",
              "    <tr>\n",
              "      <th>count</th>\n",
              "      <td>2.520000e+02</td>\n",
              "      <td>2.520000e+02</td>\n",
              "      <td>252.000000</td>\n",
              "      <td>2.520000e+02</td>\n",
              "    </tr>\n",
              "    <tr>\n",
              "      <th>mean</th>\n",
              "      <td>5.952879e+05</td>\n",
              "      <td>2.427870e+06</td>\n",
              "      <td>434.309524</td>\n",
              "      <td>2.727679e+07</td>\n",
              "    </tr>\n",
              "    <tr>\n",
              "      <th>std</th>\n",
              "      <td>1.904818e+06</td>\n",
              "      <td>1.632093e+06</td>\n",
              "      <td>254.663139</td>\n",
              "      <td>1.164127e+08</td>\n",
              "    </tr>\n",
              "    <tr>\n",
              "      <th>min</th>\n",
              "      <td>0.000000e+00</td>\n",
              "      <td>4.951800e+04</td>\n",
              "      <td>0.000000</td>\n",
              "      <td>0.000000e+00</td>\n",
              "    </tr>\n",
              "    <tr>\n",
              "      <th>25%</th>\n",
              "      <td>1.098000e+03</td>\n",
              "      <td>1.163774e+06</td>\n",
              "      <td>217.000000</td>\n",
              "      <td>1.879528e+05</td>\n",
              "    </tr>\n",
              "    <tr>\n",
              "      <th>50%</th>\n",
              "      <td>6.489450e+04</td>\n",
              "      <td>2.367967e+06</td>\n",
              "      <td>436.000000</td>\n",
              "      <td>4.268583e+06</td>\n",
              "    </tr>\n",
              "    <tr>\n",
              "      <th>75%</th>\n",
              "      <td>3.622245e+05</td>\n",
              "      <td>3.478296e+06</td>\n",
              "      <td>652.500000</td>\n",
              "      <td>1.536688e+07</td>\n",
              "    </tr>\n",
              "    <tr>\n",
              "      <th>max</th>\n",
              "      <td>1.710000e+07</td>\n",
              "      <td>8.505033e+06</td>\n",
              "      <td>894.000000</td>\n",
              "      <td>1.330044e+09</td>\n",
              "    </tr>\n",
              "  </tbody>\n",
              "</table>\n",
              "</div>\n",
              "      <button class=\"colab-df-convert\" onclick=\"convertToInteractive('df-a85cf879-d071-4ee7-a4cc-adbfeb293bcb')\"\n",
              "              title=\"Convert this dataframe to an interactive table.\"\n",
              "              style=\"display:none;\">\n",
              "        \n",
              "  <svg xmlns=\"http://www.w3.org/2000/svg\" height=\"24px\"viewBox=\"0 0 24 24\"\n",
              "       width=\"24px\">\n",
              "    <path d=\"M0 0h24v24H0V0z\" fill=\"none\"/>\n",
              "    <path d=\"M18.56 5.44l.94 2.06.94-2.06 2.06-.94-2.06-.94-.94-2.06-.94 2.06-2.06.94zm-11 1L8.5 8.5l.94-2.06 2.06-.94-2.06-.94L8.5 2.5l-.94 2.06-2.06.94zm10 10l.94 2.06.94-2.06 2.06-.94-2.06-.94-.94-2.06-.94 2.06-2.06.94z\"/><path d=\"M17.41 7.96l-1.37-1.37c-.4-.4-.92-.59-1.43-.59-.52 0-1.04.2-1.43.59L10.3 9.45l-7.72 7.72c-.78.78-.78 2.05 0 2.83L4 21.41c.39.39.9.59 1.41.59.51 0 1.02-.2 1.41-.59l7.78-7.78 2.81-2.81c.8-.78.8-2.07 0-2.86zM5.41 20L4 18.59l7.72-7.72 1.47 1.35L5.41 20z\"/>\n",
              "  </svg>\n",
              "      </button>\n",
              "      \n",
              "  <style>\n",
              "    .colab-df-container {\n",
              "      display:flex;\n",
              "      flex-wrap:wrap;\n",
              "      gap: 12px;\n",
              "    }\n",
              "\n",
              "    .colab-df-convert {\n",
              "      background-color: #E8F0FE;\n",
              "      border: none;\n",
              "      border-radius: 50%;\n",
              "      cursor: pointer;\n",
              "      display: none;\n",
              "      fill: #1967D2;\n",
              "      height: 32px;\n",
              "      padding: 0 0 0 0;\n",
              "      width: 32px;\n",
              "    }\n",
              "\n",
              "    .colab-df-convert:hover {\n",
              "      background-color: #E2EBFA;\n",
              "      box-shadow: 0px 1px 2px rgba(60, 64, 67, 0.3), 0px 1px 3px 1px rgba(60, 64, 67, 0.15);\n",
              "      fill: #174EA6;\n",
              "    }\n",
              "\n",
              "    [theme=dark] .colab-df-convert {\n",
              "      background-color: #3B4455;\n",
              "      fill: #D2E3FC;\n",
              "    }\n",
              "\n",
              "    [theme=dark] .colab-df-convert:hover {\n",
              "      background-color: #434B5C;\n",
              "      box-shadow: 0px 1px 3px 1px rgba(0, 0, 0, 0.15);\n",
              "      filter: drop-shadow(0px 1px 2px rgba(0, 0, 0, 0.3));\n",
              "      fill: #FFFFFF;\n",
              "    }\n",
              "  </style>\n",
              "\n",
              "      <script>\n",
              "        const buttonEl =\n",
              "          document.querySelector('#df-a85cf879-d071-4ee7-a4cc-adbfeb293bcb button.colab-df-convert');\n",
              "        buttonEl.style.display =\n",
              "          google.colab.kernel.accessAllowed ? 'block' : 'none';\n",
              "\n",
              "        async function convertToInteractive(key) {\n",
              "          const element = document.querySelector('#df-a85cf879-d071-4ee7-a4cc-adbfeb293bcb');\n",
              "          const dataTable =\n",
              "            await google.colab.kernel.invokeFunction('convertToInteractive',\n",
              "                                                     [key], {});\n",
              "          if (!dataTable) return;\n",
              "\n",
              "          const docLinkHtml = 'Like what you see? Visit the ' +\n",
              "            '<a target=\"_blank\" href=https://colab.research.google.com/notebooks/data_table.ipynb>data table notebook</a>'\n",
              "            + ' to learn more about interactive tables.';\n",
              "          element.innerHTML = '';\n",
              "          dataTable['output_type'] = 'display_data';\n",
              "          await google.colab.output.renderOutput(dataTable, element);\n",
              "          const docLink = document.createElement('div');\n",
              "          docLink.innerHTML = docLinkHtml;\n",
              "          element.appendChild(docLink);\n",
              "        }\n",
              "      </script>\n",
              "    </div>\n",
              "  </div>\n",
              "  "
            ]
          },
          "metadata": {},
          "execution_count": 10
        }
      ],
      "source": [
        "#describe() informa sobre los datos estadísticos de un DataFrame\n",
        "df.describe()"
      ]
    },
    {
      "cell_type": "markdown",
      "id": "a4b26eb0",
      "metadata": {
        "id": "a4b26eb0"
      },
      "source": [
        "**Matriz de Correlación**\n",
        "\n",
        "Pandas filtra las features numéricas y calcula datos estadísticos que pueden ser útiles: cantidad,\n",
        "media, desvío estándar, valores máximo y mínimo.\n",
        "Verifiquemos si hay correlación entre los datos"
      ]
    },
    {
      "cell_type": "code",
      "execution_count": 11,
      "id": "1cba9595",
      "metadata": {
        "colab": {
          "base_uri": "https://localhost:8080/",
          "height": 297
        },
        "id": "1cba9595",
        "outputId": "5b6538cf-f00f-478a-effa-2aaa0fcd74d9"
      },
      "outputs": [
        {
          "output_type": "display_data",
          "data": {
            "text/plain": [
              "<Figure size 432x288 with 2 Axes>"
            ],
            "image/png": "[encoded data removed]"
          },
          "metadata": {
            "needs_background": "light"
          }
        }
      ],
      "source": [
        "corr=df.set_index('alpha_3').corr() # fija una columna del dataframe como índice, descartando el índice existente.\n",
        "sm.graphics.plot_corr(corr, xnames=list(corr.columns)) #Trazar la correlación de muchas variables en una cuadrícula de color ajustada.\n",
        "plt.show()"
      ]
    },
    {
      "cell_type": "markdown",
      "id": "3a5723ef",
      "metadata": {
        "id": "3a5723ef"
      },
      "source": [
        "En este caso vemos baja correlación entre las variables. Dependiendo del algoritmo que utilicemos\n",
        "podría ser una buena decisión eliminar features que tuvieran alta correlación.\n",
        "Cargamos un segundo archivo csv para ahondar en el crecimiento de la población en los últimos\n",
        "años, filtramos a España y visualizamos"
      ]
    },
    {
      "cell_type": "markdown",
      "id": "cae7714b",
      "metadata": {
        "id": "cae7714b"
      },
      "source": [
        "**Cargar una segunda fuente de datos"
      ]
    },
    {
      "cell_type": "code",
      "execution_count": 12,
      "id": "4f5b92b1",
      "metadata": {
        "colab": {
          "base_uri": "https://localhost:8080/"
        },
        "id": "4f5b92b1",
        "outputId": "fb1c3538-0a4d-4e89-e740-7667e1bb68f7"
      },
      "outputs": [
        {
          "output_type": "stream",
          "name": "stdout",
          "text": [
            "       country  year  population\n",
            "0  Afghanistan  1952     8425333\n",
            "1  Afghanistan  1957     9240934\n",
            "2  Afghanistan  1962    10267083\n",
            "3  Afghanistan  1967    11537966\n",
            "4  Afghanistan  1972    13079460\n"
          ]
        }
      ],
      "source": [
        "url = 'https://raw.githubusercontent.com/DrueStaples/Population_Growth/master/countries.csv'\n",
        "df_pop = pd.read_csv(url)\n",
        "print(df_pop.head(5))"
      ]
    },
    {
      "cell_type": "markdown",
      "id": "5ee7dc46",
      "metadata": {
        "id": "5ee7dc46"
      },
      "source": [
        "**Aqui vemos la población año tras año de España"
      ]
    },
    {
      "cell_type": "code",
      "execution_count": 13,
      "id": "ae70bca7",
      "metadata": {
        "colab": {
          "base_uri": "https://localhost:8080/",
          "height": 426
        },
        "id": "ae70bca7",
        "outputId": "cee4cb60-9b8e-4322-b810-fec8e06d69a6"
      },
      "outputs": [
        {
          "output_type": "execute_result",
          "data": {
            "text/plain": [
              "     country  year  population\n",
              "1416   Spain  1952    28549870\n",
              "1417   Spain  1957    29841614\n",
              "1418   Spain  1962    31158061\n",
              "1419   Spain  1967    32850275\n",
              "1420   Spain  1972    34513161\n",
              "1421   Spain  1977    36439000\n",
              "1422   Spain  1982    37983310\n",
              "1423   Spain  1987    38880702\n",
              "1424   Spain  1992    39549438\n",
              "1425   Spain  1997    39855442\n",
              "1426   Spain  2002    40152517\n",
              "1427   Spain  2007    40448191"
            ],
            "text/html": [
              "\n",
              "  <div id=\"df-e7c05cdd-e76c-4595-97b1-192beb73a216\">\n",
              "    <div class=\"colab-df-container\">\n",
              "      <div>\n",
              "<style scoped>\n",
              "    .dataframe tbody tr th:only-of-type {\n",
              "        vertical-align: middle;\n",
              "    }\n",
              "\n",
              "    .dataframe tbody tr th {\n",
              "        vertical-align: top;\n",
              "    }\n",
              "\n",
              "    .dataframe thead th {\n",
              "        text-align: right;\n",
              "    }\n",
              "</style>\n",
              "<table border=\"1\" class=\"dataframe\">\n",
              "  <thead>\n",
              "    <tr style=\"text-align: right;\">\n",
              "      <th></th>\n",
              "      <th>country</th>\n",
              "      <th>year</th>\n",
              "      <th>population</th>\n",
              "    </tr>\n",
              "  </thead>\n",
              "  <tbody>\n",
              "    <tr>\n",
              "      <th>1416</th>\n",
              "      <td>Spain</td>\n",
              "      <td>1952</td>\n",
              "      <td>28549870</td>\n",
              "    </tr>\n",
              "    <tr>\n",
              "      <th>1417</th>\n",
              "      <td>Spain</td>\n",
              "      <td>1957</td>\n",
              "      <td>29841614</td>\n",
              "    </tr>\n",
              "    <tr>\n",
              "      <th>1418</th>\n",
              "      <td>Spain</td>\n",
              "      <td>1962</td>\n",
              "      <td>31158061</td>\n",
              "    </tr>\n",
              "    <tr>\n",
              "      <th>1419</th>\n",
              "      <td>Spain</td>\n",
              "      <td>1967</td>\n",
              "      <td>32850275</td>\n",
              "    </tr>\n",
              "    <tr>\n",
              "      <th>1420</th>\n",
              "      <td>Spain</td>\n",
              "      <td>1972</td>\n",
              "      <td>34513161</td>\n",
              "    </tr>\n",
              "    <tr>\n",
              "      <th>1421</th>\n",
              "      <td>Spain</td>\n",
              "      <td>1977</td>\n",
              "      <td>36439000</td>\n",
              "    </tr>\n",
              "    <tr>\n",
              "      <th>1422</th>\n",
              "      <td>Spain</td>\n",
              "      <td>1982</td>\n",
              "      <td>37983310</td>\n",
              "    </tr>\n",
              "    <tr>\n",
              "      <th>1423</th>\n",
              "      <td>Spain</td>\n",
              "      <td>1987</td>\n",
              "      <td>38880702</td>\n",
              "    </tr>\n",
              "    <tr>\n",
              "      <th>1424</th>\n",
              "      <td>Spain</td>\n",
              "      <td>1992</td>\n",
              "      <td>39549438</td>\n",
              "    </tr>\n",
              "    <tr>\n",
              "      <th>1425</th>\n",
              "      <td>Spain</td>\n",
              "      <td>1997</td>\n",
              "      <td>39855442</td>\n",
              "    </tr>\n",
              "    <tr>\n",
              "      <th>1426</th>\n",
              "      <td>Spain</td>\n",
              "      <td>2002</td>\n",
              "      <td>40152517</td>\n",
              "    </tr>\n",
              "    <tr>\n",
              "      <th>1427</th>\n",
              "      <td>Spain</td>\n",
              "      <td>2007</td>\n",
              "      <td>40448191</td>\n",
              "    </tr>\n",
              "  </tbody>\n",
              "</table>\n",
              "</div>\n",
              "      <button class=\"colab-df-convert\" onclick=\"convertToInteractive('df-e7c05cdd-e76c-4595-97b1-192beb73a216')\"\n",
              "              title=\"Convert this dataframe to an interactive table.\"\n",
              "              style=\"display:none;\">\n",
              "        \n",
              "  <svg xmlns=\"http://www.w3.org/2000/svg\" height=\"24px\"viewBox=\"0 0 24 24\"\n",
              "       width=\"24px\">\n",
              "    <path d=\"M0 0h24v24H0V0z\" fill=\"none\"/>\n",
              "    <path d=\"M18.56 5.44l.94 2.06.94-2.06 2.06-.94-2.06-.94-.94-2.06-.94 2.06-2.06.94zm-11 1L8.5 8.5l.94-2.06 2.06-.94-2.06-.94L8.5 2.5l-.94 2.06-2.06.94zm10 10l.94 2.06.94-2.06 2.06-.94-2.06-.94-.94-2.06-.94 2.06-2.06.94z\"/><path d=\"M17.41 7.96l-1.37-1.37c-.4-.4-.92-.59-1.43-.59-.52 0-1.04.2-1.43.59L10.3 9.45l-7.72 7.72c-.78.78-.78 2.05 0 2.83L4 21.41c.39.39.9.59 1.41.59.51 0 1.02-.2 1.41-.59l7.78-7.78 2.81-2.81c.8-.78.8-2.07 0-2.86zM5.41 20L4 18.59l7.72-7.72 1.47 1.35L5.41 20z\"/>\n",
              "  </svg>\n",
              "      </button>\n",
              "      \n",
              "  <style>\n",
              "    .colab-df-container {\n",
              "      display:flex;\n",
              "      flex-wrap:wrap;\n",
              "      gap: 12px;\n",
              "    }\n",
              "\n",
              "    .colab-df-convert {\n",
              "      background-color: #E8F0FE;\n",
              "      border: none;\n",
              "      border-radius: 50%;\n",
              "      cursor: pointer;\n",
              "      display: none;\n",
              "      fill: #1967D2;\n",
              "      height: 32px;\n",
              "      padding: 0 0 0 0;\n",
              "      width: 32px;\n",
              "    }\n",
              "\n",
              "    .colab-df-convert:hover {\n",
              "      background-color: #E2EBFA;\n",
              "      box-shadow: 0px 1px 2px rgba(60, 64, 67, 0.3), 0px 1px 3px 1px rgba(60, 64, 67, 0.15);\n",
              "      fill: #174EA6;\n",
              "    }\n",
              "\n",
              "    [theme=dark] .colab-df-convert {\n",
              "      background-color: #3B4455;\n",
              "      fill: #D2E3FC;\n",
              "    }\n",
              "\n",
              "    [theme=dark] .colab-df-convert:hover {\n",
              "      background-color: #434B5C;\n",
              "      box-shadow: 0px 1px 3px 1px rgba(0, 0, 0, 0.15);\n",
              "      filter: drop-shadow(0px 1px 2px rgba(0, 0, 0, 0.3));\n",
              "      fill: #FFFFFF;\n",
              "    }\n",
              "  </style>\n",
              "\n",
              "      <script>\n",
              "        const buttonEl =\n",
              "          document.querySelector('#df-e7c05cdd-e76c-4595-97b1-192beb73a216 button.colab-df-convert');\n",
              "        buttonEl.style.display =\n",
              "          google.colab.kernel.accessAllowed ? 'block' : 'none';\n",
              "\n",
              "        async function convertToInteractive(key) {\n",
              "          const element = document.querySelector('#df-e7c05cdd-e76c-4595-97b1-192beb73a216');\n",
              "          const dataTable =\n",
              "            await google.colab.kernel.invokeFunction('convertToInteractive',\n",
              "                                                     [key], {});\n",
              "          if (!dataTable) return;\n",
              "\n",
              "          const docLinkHtml = 'Like what you see? Visit the ' +\n",
              "            '<a target=\"_blank\" href=https://colab.research.google.com/notebooks/data_table.ipynb>data table notebook</a>'\n",
              "            + ' to learn more about interactive tables.';\n",
              "          element.innerHTML = '';\n",
              "          dataTable['output_type'] = 'display_data';\n",
              "          await google.colab.output.renderOutput(dataTable, element);\n",
              "          const docLink = document.createElement('div');\n",
              "          docLink.innerHTML = docLinkHtml;\n",
              "          element.appendChild(docLink);\n",
              "        }\n",
              "      </script>\n",
              "    </div>\n",
              "  </div>\n",
              "  "
            ]
          },
          "metadata": {},
          "execution_count": 13
        }
      ],
      "source": [
        "df_pop_es = df_pop[df_pop[\"country\"] == 'Spain' ] #Asigna la columna españa y la convierte en otro df\n",
        "df_pop_es.head(13)"
      ]
    },
    {
      "cell_type": "code",
      "execution_count": 14,
      "id": "2657df96",
      "metadata": {
        "colab": {
          "base_uri": "https://localhost:8080/",
          "height": 309
        },
        "id": "2657df96",
        "outputId": "6a77c100-aa18-4ac5-ecce-8b9a81ae7045"
      },
      "outputs": [
        {
          "output_type": "execute_result",
          "data": {
            "text/plain": [
              "<matplotlib.axes._subplots.AxesSubplot at 0x7f327a527dd0>"
            ]
          },
          "metadata": {},
          "execution_count": 14
        },
        {
          "output_type": "display_data",
          "data": {
            "text/plain": [
              "<Figure size 432x288 with 1 Axes>"
            ],
            "image/png": "[encoded data removed]"
          },
          "metadata": {
            "needs_background": "light"
          }
        }
      ],
      "source": [
        "df_pop_es.drop(['country'],axis=1)['population'].plot(kind='bar')\n",
        "#Crecimiento de la Población de España. El eje x no está establecido y aparece un id de fila.\n",
        "#Hagamos la comparativa con otro país, por ejemplo con el crecimiento poblacional en Argentina"
      ]
    },
    {
      "cell_type": "code",
      "execution_count": 15,
      "id": "577a31d4",
      "metadata": {
        "colab": {
          "base_uri": "https://localhost:8080/"
        },
        "id": "577a31d4",
        "outputId": "b3ed5b6a-ae85-4024-8de6-ed1529e9bf2e"
      },
      "outputs": [
        {
          "output_type": "execute_result",
          "data": {
            "text/plain": [
              "(12, 3)"
            ]
          },
          "metadata": {},
          "execution_count": 15
        }
      ],
      "source": [
        "df_pop_es.shape #muestra el total de filas (12) y columnas (3)del df"
      ]
    },
    {
      "cell_type": "code",
      "execution_count": 16,
      "id": "a47c1f01",
      "metadata": {
        "colab": {
          "base_uri": "https://localhost:8080/",
          "height": 309
        },
        "id": "a47c1f01",
        "outputId": "3905ea4f-9a3d-44b3-aee0-054721176bb4"
      },
      "outputs": [
        {
          "output_type": "execute_result",
          "data": {
            "text/plain": [
              "<matplotlib.axes._subplots.AxesSubplot at 0x7f327a4676d0>"
            ]
          },
          "metadata": {},
          "execution_count": 16
        },
        {
          "output_type": "display_data",
          "data": {
            "text/plain": [
              "<Figure size 432x288 with 1 Axes>"
            ],
            "image/png": "[encoded data removed]"
          },
          "metadata": {
            "needs_background": "light"
          }
        }
      ],
      "source": [
        "df_pop_ar = df_pop[(df_pop[\"country\"] == 'Argentina')] #Asigna la columna Argentina y la convierte en otro df\n",
        " \n",
        "anios = df_pop_es['year'].unique()\n",
        "#Obtener valores únicos en la columna Pandas DataFrame con el método unique. \n",
        "#El método Pandas Series unique() se utiliza cuando tratamos con una sola columna de un DataFrame y devuelve todos los elementos únicos de una columna. \n",
        "#La salida final usando la función unique() es un array\n",
        "pop_ar = df_pop_ar['population'].values #df['col_name'].values[] para obtener el valor de una celda de un dataframe de Pandas\n",
        "pop_es = df_pop_es['population'].values\n",
        "#df['col_name'].values[] primero convertirá la columna datafarme en un array 1-D y luego accederá al valor en índice de esa array:\n",
        " \n",
        "df_plot = pd.DataFrame({'Argentina': pop_ar,\n",
        "                    'Spain': pop_es}, \n",
        "                       index=anios)\n",
        "df_plot.plot(kind='bar')"
      ]
    },
    {
      "cell_type": "markdown",
      "id": "c57cb926",
      "metadata": {
        "id": "c57cb926"
      },
      "source": [
        "Gráfica comparativa de crecimiento poblacional entre España y Argentina entre los años 1952 al\n",
        "2007.\n",
        "**Ahora filtremos todos los paises hispano-hablantes"
      ]
    },
    {
      "cell_type": "code",
      "execution_count": 17,
      "id": "e2508a91",
      "metadata": {
        "colab": {
          "base_uri": "https://localhost:8080/",
          "height": 1000
        },
        "id": "e2508a91",
        "outputId": "8e154614-7481-47e8-e229-414e87543bae"
      },
      "outputs": [
        {
          "output_type": "execute_result",
          "data": {
            "text/plain": [
              "    alpha_2 alpha_3       area         capital continent currency_code  \\\n",
              "9        AR     ARG  2766890.0    Buenos Aires        SA           ARS   \n",
              "13       AW     ABW      193.0      Oranjestad                     AWG   \n",
              "28       BO     BOL  1098580.0           Sucre        SA           BOB   \n",
              "30       BR     BRA  8511965.0        Brasilia        SA           BRL   \n",
              "36       BZ     BLZ    22966.0        Belmopan                     BZD   \n",
              "45       CL     CHL   756950.0        Santiago        SA           CLP   \n",
              "48       CO     COL  1138910.0          Bogota        SA           COP   \n",
              "49       CR     CRI    51100.0        San Jose                     CRC   \n",
              "50       CU     CUB   110860.0          Havana                     CUP   \n",
              "60       DO     DOM    48730.0   Santo Domingo                     DOP   \n",
              "62       EC     ECU   283560.0           Quito        SA           USD   \n",
              "67       ES     ESP   504782.0          Madrid        EU           EUR   \n",
              "82       GI     GIB        6.5       Gibraltar        EU           GIP   \n",
              "87       GQ     GNQ    28051.0          Malabo        AF           XAF   \n",
              "90       GT     GTM   108890.0  Guatemala City                     GTQ   \n",
              "96       HN     HND   112090.0     Tegucigalpa                     HNL   \n",
              "157      MX     MEX  1972550.0     Mexico City                     MXN   \n",
              "165      NI     NIC   129494.0         Managua                     NIO   \n",
              "173      PA     PAN    78200.0     Panama City                     PAB   \n",
              "174      PE     PER  1285220.0            Lima        SA           PEN   \n",
              "182      PR     PRI     9104.0        San Juan                     USD   \n",
              "186      PY     PRY   406750.0        Asuncion        SA           PYG   \n",
              "187      QA     QAT    11437.0            Doha        AS           QAR   \n",
              "210      SV     SLV    21040.0    San Salvador                     USD   \n",
              "226      TT     TTO     5128.0   Port of Spain                     TTD   \n",
              "233      US     USA  9629091.0      Washington                     USD   \n",
              "234      UY     URY   176220.0      Montevideo        SA           UYU   \n",
              "238      VE     VEN   912050.0         Caracas        SA           VEF   \n",
              "251      AN     ANT      960.0      Willemstad                     ANG   \n",
              "\n",
              "    currency_name eqivalent_fips_code fips  geoname_id             languages  \\\n",
              "9            Peso                       AR     3865483  es-AR,en,it,de,fr,gn   \n",
              "13        Guilder                       AA     3577279           nl-AW,es,en   \n",
              "28      Boliviano                       BL     3923057           es-BO,qu,ay   \n",
              "30           Real                       BR     3469034        pt-BR,es,en,fr   \n",
              "36         Dollar                       BH     3582678              en-BZ,es   \n",
              "45           Peso                       CI     3895114                 es-CL   \n",
              "48           Peso                       CO     3686110                 es-CO   \n",
              "49          Colon                       CS     3624060              es-CR,en   \n",
              "50           Peso                       CU     3562981                 es-CU   \n",
              "60           Peso                       DR     3508796                 es-DO   \n",
              "62         Dollar                       EC     3658394                 es-EC   \n",
              "67           Euro                       SP     2510769     es-ES,ca,gl,eu,oc   \n",
              "82          Pound                       GI     2411586        en-GI,es,it,pt   \n",
              "87          Franc                       EK     2309096              es-GQ,fr   \n",
              "90        Quetzal                       GT     3595528                 es-GT   \n",
              "96        Lempira                       HO     3608932                 es-HN   \n",
              "157          Peso                       MX     3996063                 es-MX   \n",
              "165       Cordoba                       NU     3617476              es-NI,en   \n",
              "173        Balboa                       PM     3703430              es-PA,en   \n",
              "174           Sol                       PE     3932488           es-PE,qu,ay   \n",
              "182        Dollar                       RQ     4566966           en-PR,es-PR   \n",
              "186       Guarani                       PA     3437598              es-PY,gn   \n",
              "187          Rial                       QA      289688              ar-QA,es   \n",
              "210        Dollar                       ES     3585968                 es-SV   \n",
              "226        Dollar                       TD     3573591    en-TT,hns,fr,es,zh   \n",
              "233        Dollar                       US     6252001    en-US,es-US,haw,fr   \n",
              "234          Peso                       UY     3439705                 es-UY   \n",
              "238       Bolivar                       VE     3625428                 es-VE   \n",
              "251       Guilder                       NT     8505032           nl-AN,en,es   \n",
              "\n",
              "                     name                     neighbours  numeric  \\\n",
              "9               Argentina                 CL,BO,UY,PY,BR       32   \n",
              "13                  Aruba                                     533   \n",
              "28                Bolivia                 PE,CL,PY,BR,AR       68   \n",
              "30                 Brazil  SR,PE,BO,UY,GY,PY,GF,VE,CO,AR       76   \n",
              "36                 Belize                          GT,MX       84   \n",
              "45                  Chile                       PE,BO,AR      152   \n",
              "48               Colombia                 EC,PE,PA,BR,VE      170   \n",
              "49             Costa Rica                          PA,NI      188   \n",
              "50                   Cuba                             US      192   \n",
              "60     Dominican Republic                             HT      214   \n",
              "62                Ecuador                          PE,CO      218   \n",
              "67                  Spain                 AD,PT,GI,FR,MA      724   \n",
              "82              Gibraltar                             ES      292   \n",
              "87      Equatorial Guinea                          GA,CM      226   \n",
              "90              Guatemala                    MX,HN,BZ,SV      320   \n",
              "96               Honduras                       GT,NI,SV      340   \n",
              "157                Mexico                       GT,US,BZ      484   \n",
              "165             Nicaragua                          CR,HN      558   \n",
              "173                Panama                          CR,CO      591   \n",
              "174                  Peru                 EC,CL,BO,BR,CO      604   \n",
              "182           Puerto Rico                                     630   \n",
              "186              Paraguay                       BO,BR,AR      600   \n",
              "187                 Qatar                             SA      634   \n",
              "210           El Salvador                          GT,HN      222   \n",
              "226   Trinidad and Tobago                                     780   \n",
              "233         United States                       CA,MX,CU      840   \n",
              "234               Uruguay                          BR,AR      858   \n",
              "238             Venezuela                       GY,BR,CO      862   \n",
              "251  Netherlands Antilles                             GP      530   \n",
              "\n",
              "                phone  population postal_code_format  \\\n",
              "9                  54    41343201           @####@@@   \n",
              "13                297       71566                      \n",
              "28                591     9947418                      \n",
              "30                 55   201103330          #####-###   \n",
              "36                501      314522                      \n",
              "45                 56    16746491            #######   \n",
              "48                 57    47790000                      \n",
              "49                506     4516220               ####   \n",
              "50                 53    11423000           CP #####   \n",
              "60   +1-809 and 1-829     9823821              #####   \n",
              "62                593    14790608             @####@   \n",
              "67                 34    46505963              #####   \n",
              "82                350       27884                      \n",
              "87                240     1014999                      \n",
              "90                502    13550440              #####   \n",
              "96                504     7989415             @@####   \n",
              "157                52   112468855              #####   \n",
              "165               505     5995928          ###-###-#   \n",
              "173               507     3410676                      \n",
              "174                51    29907003                      \n",
              "182  +1-787 and 1-939     3916632         #####-####   \n",
              "186               595     6375830               ####   \n",
              "187               974      840926                      \n",
              "210               503     6052064            CP ####   \n",
              "226            +1-868     1228691                      \n",
              "233                 1   310232863         #####-####   \n",
              "234               598     3477000              #####   \n",
              "238                58    27223228               ####   \n",
              "251               599      300000                      \n",
              "\n",
              "             postal_code_regex  tld  \n",
              "9      ^[A-Z]?\\d{4}[A-Z]{0,3}$  .ar  \n",
              "13                              .aw  \n",
              "28                              .bo  \n",
              "30               ^\\d{5}-\\d{3}$  .br  \n",
              "36                              .bz  \n",
              "45                   ^(\\d{7})$  .cl  \n",
              "48                              .co  \n",
              "49                   ^(\\d{4})$  .cr  \n",
              "50            ^(?:CP)*(\\d{5})$  .cu  \n",
              "60                   ^(\\d{5})$  .do  \n",
              "62   ^([a-zA-Z]\\d{4}[a-zA-Z])$  .ec  \n",
              "67                   ^(\\d{5})$  .es  \n",
              "82                              .gi  \n",
              "87                              .gq  \n",
              "90                   ^(\\d{5})$  .gt  \n",
              "96           ^([A-Z]{2}\\d{4})$  .hn  \n",
              "157                  ^(\\d{5})$  .mx  \n",
              "165                  ^(\\d{7})$  .ni  \n",
              "173                             .pa  \n",
              "174                             .pe  \n",
              "182  ^00[679]\\d{2}(?:-\\d{4})?$  .pr  \n",
              "186                  ^(\\d{4})$  .py  \n",
              "187                             .qa  \n",
              "210           ^(?:CP)*(\\d{4})$  .sv  \n",
              "226                             .tt  \n",
              "233           ^\\d{5}(-\\d{4})?$  .us  \n",
              "234                  ^(\\d{5})$  .uy  \n",
              "238                  ^(\\d{4})$  .ve  \n",
              "251                             .an  "
            ],
            "text/html": [
              "\n",
              "  <div id=\"df-62cfa826-e959-418c-b35f-ab909049e65d\">\n",
              "    <div class=\"colab-df-container\">\n",
              "      <div>\n",
              "<style scoped>\n",
              "    .dataframe tbody tr th:only-of-type {\n",
              "        vertical-align: middle;\n",
              "    }\n",
              "\n",
              "    .dataframe tbody tr th {\n",
              "        vertical-align: top;\n",
              "    }\n",
              "\n",
              "    .dataframe thead th {\n",
              "        text-align: right;\n",
              "    }\n",
              "</style>\n",
              "<table border=\"1\" class=\"dataframe\">\n",
              "  <thead>\n",
              "    <tr style=\"text-align: right;\">\n",
              "      <th></th>\n",
              "      <th>alpha_2</th>\n",
              "      <th>alpha_3</th>\n",
              "      <th>area</th>\n",
              "      <th>capital</th>\n",
              "      <th>continent</th>\n",
              "      <th>currency_code</th>\n",
              "      <th>currency_name</th>\n",
              "      <th>eqivalent_fips_code</th>\n",
              "      <th>fips</th>\n",
              "      <th>geoname_id</th>\n",
              "      <th>languages</th>\n",
              "      <th>name</th>\n",
              "      <th>neighbours</th>\n",
              "      <th>numeric</th>\n",
              "      <th>phone</th>\n",
              "      <th>population</th>\n",
              "      <th>postal_code_format</th>\n",
              "      <th>postal_code_regex</th>\n",
              "      <th>tld</th>\n",
              "    </tr>\n",
              "  </thead>\n",
              "  <tbody>\n",
              "    <tr>\n",
              "      <th>9</th>\n",
              "      <td>AR</td>\n",
              "      <td>ARG</td>\n",
              "      <td>2766890.0</td>\n",
              "      <td>Buenos Aires</td>\n",
              "      <td>SA</td>\n",
              "      <td>ARS</td>\n",
              "      <td>Peso</td>\n",
              "      <td></td>\n",
              "      <td>AR</td>\n",
              "      <td>3865483</td>\n",
              "      <td>es-AR,en,it,de,fr,gn</td>\n",
              "      <td>Argentina</td>\n",
              "      <td>CL,BO,UY,PY,BR</td>\n",
              "      <td>32</td>\n",
              "      <td>54</td>\n",
              "      <td>41343201</td>\n",
              "      <td>@####@@@</td>\n",
              "      <td>^[A-Z]?\\d{4}[A-Z]{0,3}$</td>\n",
              "      <td>.ar</td>\n",
              "    </tr>\n",
              "    <tr>\n",
              "      <th>13</th>\n",
              "      <td>AW</td>\n",
              "      <td>ABW</td>\n",
              "      <td>193.0</td>\n",
              "      <td>Oranjestad</td>\n",
              "      <td></td>\n",
              "      <td>AWG</td>\n",
              "      <td>Guilder</td>\n",
              "      <td></td>\n",
              "      <td>AA</td>\n",
              "      <td>3577279</td>\n",
              "      <td>nl-AW,es,en</td>\n",
              "      <td>Aruba</td>\n",
              "      <td></td>\n",
              "      <td>533</td>\n",
              "      <td>297</td>\n",
              "      <td>71566</td>\n",
              "      <td></td>\n",
              "      <td></td>\n",
              "      <td>.aw</td>\n",
              "    </tr>\n",
              "    <tr>\n",
              "      <th>28</th>\n",
              "      <td>BO</td>\n",
              "      <td>BOL</td>\n",
              "      <td>1098580.0</td>\n",
              "      <td>Sucre</td>\n",
              "      <td>SA</td>\n",
              "      <td>BOB</td>\n",
              "      <td>Boliviano</td>\n",
              "      <td></td>\n",
              "      <td>BL</td>\n",
              "      <td>3923057</td>\n",
              "      <td>es-BO,qu,ay</td>\n",
              "      <td>Bolivia</td>\n",
              "      <td>PE,CL,PY,BR,AR</td>\n",
              "      <td>68</td>\n",
              "      <td>591</td>\n",
              "      <td>9947418</td>\n",
              "      <td></td>\n",
              "      <td></td>\n",
              "      <td>.bo</td>\n",
              "    </tr>\n",
              "    <tr>\n",
              "      <th>30</th>\n",
              "      <td>BR</td>\n",
              "      <td>BRA</td>\n",
              "      <td>8511965.0</td>\n",
              "      <td>Brasilia</td>\n",
              "      <td>SA</td>\n",
              "      <td>BRL</td>\n",
              "      <td>Real</td>\n",
              "      <td></td>\n",
              "      <td>BR</td>\n",
              "      <td>3469034</td>\n",
              "      <td>pt-BR,es,en,fr</td>\n",
              "      <td>Brazil</td>\n",
              "      <td>SR,PE,BO,UY,GY,PY,GF,VE,CO,AR</td>\n",
              "      <td>76</td>\n",
              "      <td>55</td>\n",
              "      <td>201103330</td>\n",
              "      <td>#####-###</td>\n",
              "      <td>^\\d{5}-\\d{3}$</td>\n",
              "      <td>.br</td>\n",
              "    </tr>\n",
              "    <tr>\n",
              "      <th>36</th>\n",
              "      <td>BZ</td>\n",
              "      <td>BLZ</td>\n",
              "      <td>22966.0</td>\n",
              "      <td>Belmopan</td>\n",
              "      <td></td>\n",
              "      <td>BZD</td>\n",
              "      <td>Dollar</td>\n",
              "      <td></td>\n",
              "      <td>BH</td>\n",
              "      <td>3582678</td>\n",
              "      <td>en-BZ,es</td>\n",
              "      <td>Belize</td>\n",
              "      <td>GT,MX</td>\n",
              "      <td>84</td>\n",
              "      <td>501</td>\n",
              "      <td>314522</td>\n",
              "      <td></td>\n",
              "      <td></td>\n",
              "      <td>.bz</td>\n",
              "    </tr>\n",
              "    <tr>\n",
              "      <th>45</th>\n",
              "      <td>CL</td>\n",
              "      <td>CHL</td>\n",
              "      <td>756950.0</td>\n",
              "      <td>Santiago</td>\n",
              "      <td>SA</td>\n",
              "      <td>CLP</td>\n",
              "      <td>Peso</td>\n",
              "      <td></td>\n",
              "      <td>CI</td>\n",
              "      <td>3895114</td>\n",
              "      <td>es-CL</td>\n",
              "      <td>Chile</td>\n",
              "      <td>PE,BO,AR</td>\n",
              "      <td>152</td>\n",
              "      <td>56</td>\n",
              "      <td>16746491</td>\n",
              "      <td>#######</td>\n",
              "      <td>^(\\d{7})$</td>\n",
              "      <td>.cl</td>\n",
              "    </tr>\n",
              "    <tr>\n",
              "      <th>48</th>\n",
              "      <td>CO</td>\n",
              "      <td>COL</td>\n",
              "      <td>1138910.0</td>\n",
              "      <td>Bogota</td>\n",
              "      <td>SA</td>\n",
              "      <td>COP</td>\n",
              "      <td>Peso</td>\n",
              "      <td></td>\n",
              "      <td>CO</td>\n",
              "      <td>3686110</td>\n",
              "      <td>es-CO</td>\n",
              "      <td>Colombia</td>\n",
              "      <td>EC,PE,PA,BR,VE</td>\n",
              "      <td>170</td>\n",
              "      <td>57</td>\n",
              "      <td>47790000</td>\n",
              "      <td></td>\n",
              "      <td></td>\n",
              "      <td>.co</td>\n",
              "    </tr>\n",
              "    <tr>\n",
              "      <th>49</th>\n",
              "      <td>CR</td>\n",
              "      <td>CRI</td>\n",
              "      <td>51100.0</td>\n",
              "      <td>San Jose</td>\n",
              "      <td></td>\n",
              "      <td>CRC</td>\n",
              "      <td>Colon</td>\n",
              "      <td></td>\n",
              "      <td>CS</td>\n",
              "      <td>3624060</td>\n",
              "      <td>es-CR,en</td>\n",
              "      <td>Costa Rica</td>\n",
              "      <td>PA,NI</td>\n",
              "      <td>188</td>\n",
              "      <td>506</td>\n",
              "      <td>4516220</td>\n",
              "      <td>####</td>\n",
              "      <td>^(\\d{4})$</td>\n",
              "      <td>.cr</td>\n",
              "    </tr>\n",
              "    <tr>\n",
              "      <th>50</th>\n",
              "      <td>CU</td>\n",
              "      <td>CUB</td>\n",
              "      <td>110860.0</td>\n",
              "      <td>Havana</td>\n",
              "      <td></td>\n",
              "      <td>CUP</td>\n",
              "      <td>Peso</td>\n",
              "      <td></td>\n",
              "      <td>CU</td>\n",
              "      <td>3562981</td>\n",
              "      <td>es-CU</td>\n",
              "      <td>Cuba</td>\n",
              "      <td>US</td>\n",
              "      <td>192</td>\n",
              "      <td>53</td>\n",
              "      <td>11423000</td>\n",
              "      <td>CP #####</td>\n",
              "      <td>^(?:CP)*(\\d{5})$</td>\n",
              "      <td>.cu</td>\n",
              "    </tr>\n",
              "    <tr>\n",
              "      <th>60</th>\n",
              "      <td>DO</td>\n",
              "      <td>DOM</td>\n",
              "      <td>48730.0</td>\n",
              "      <td>Santo Domingo</td>\n",
              "      <td></td>\n",
              "      <td>DOP</td>\n",
              "      <td>Peso</td>\n",
              "      <td></td>\n",
              "      <td>DR</td>\n",
              "      <td>3508796</td>\n",
              "      <td>es-DO</td>\n",
              "      <td>Dominican Republic</td>\n",
              "      <td>HT</td>\n",
              "      <td>214</td>\n",
              "      <td>+1-809 and 1-829</td>\n",
              "      <td>9823821</td>\n",
              "      <td>#####</td>\n",
              "      <td>^(\\d{5})$</td>\n",
              "      <td>.do</td>\n",
              "    </tr>\n",
              "    <tr>\n",
              "      <th>62</th>\n",
              "      <td>EC</td>\n",
              "      <td>ECU</td>\n",
              "      <td>283560.0</td>\n",
              "      <td>Quito</td>\n",
              "      <td>SA</td>\n",
              "      <td>USD</td>\n",
              "      <td>Dollar</td>\n",
              "      <td></td>\n",
              "      <td>EC</td>\n",
              "      <td>3658394</td>\n",
              "      <td>es-EC</td>\n",
              "      <td>Ecuador</td>\n",
              "      <td>PE,CO</td>\n",
              "      <td>218</td>\n",
              "      <td>593</td>\n",
              "      <td>14790608</td>\n",
              "      <td>@####@</td>\n",
              "      <td>^([a-zA-Z]\\d{4}[a-zA-Z])$</td>\n",
              "      <td>.ec</td>\n",
              "    </tr>\n",
              "    <tr>\n",
              "      <th>67</th>\n",
              "      <td>ES</td>\n",
              "      <td>ESP</td>\n",
              "      <td>504782.0</td>\n",
              "      <td>Madrid</td>\n",
              "      <td>EU</td>\n",
              "      <td>EUR</td>\n",
              "      <td>Euro</td>\n",
              "      <td></td>\n",
              "      <td>SP</td>\n",
              "      <td>2510769</td>\n",
              "      <td>es-ES,ca,gl,eu,oc</td>\n",
              "      <td>Spain</td>\n",
              "      <td>AD,PT,GI,FR,MA</td>\n",
              "      <td>724</td>\n",
              "      <td>34</td>\n",
              "      <td>46505963</td>\n",
              "      <td>#####</td>\n",
              "      <td>^(\\d{5})$</td>\n",
              "      <td>.es</td>\n",
              "    </tr>\n",
              "    <tr>\n",
              "      <th>82</th>\n",
              "      <td>GI</td>\n",
              "      <td>GIB</td>\n",
              "      <td>6.5</td>\n",
              "      <td>Gibraltar</td>\n",
              "      <td>EU</td>\n",
              "      <td>GIP</td>\n",
              "      <td>Pound</td>\n",
              "      <td></td>\n",
              "      <td>GI</td>\n",
              "      <td>2411586</td>\n",
              "      <td>en-GI,es,it,pt</td>\n",
              "      <td>Gibraltar</td>\n",
              "      <td>ES</td>\n",
              "      <td>292</td>\n",
              "      <td>350</td>\n",
              "      <td>27884</td>\n",
              "      <td></td>\n",
              "      <td></td>\n",
              "      <td>.gi</td>\n",
              "    </tr>\n",
              "    <tr>\n",
              "      <th>87</th>\n",
              "      <td>GQ</td>\n",
              "      <td>GNQ</td>\n",
              "      <td>28051.0</td>\n",
              "      <td>Malabo</td>\n",
              "      <td>AF</td>\n",
              "      <td>XAF</td>\n",
              "      <td>Franc</td>\n",
              "      <td></td>\n",
              "      <td>EK</td>\n",
              "      <td>2309096</td>\n",
              "      <td>es-GQ,fr</td>\n",
              "      <td>Equatorial Guinea</td>\n",
              "      <td>GA,CM</td>\n",
              "      <td>226</td>\n",
              "      <td>240</td>\n",
              "      <td>1014999</td>\n",
              "      <td></td>\n",
              "      <td></td>\n",
              "      <td>.gq</td>\n",
              "    </tr>\n",
              "    <tr>\n",
              "      <th>90</th>\n",
              "      <td>GT</td>\n",
              "      <td>GTM</td>\n",
              "      <td>108890.0</td>\n",
              "      <td>Guatemala City</td>\n",
              "      <td></td>\n",
              "      <td>GTQ</td>\n",
              "      <td>Quetzal</td>\n",
              "      <td></td>\n",
              "      <td>GT</td>\n",
              "      <td>3595528</td>\n",
              "      <td>es-GT</td>\n",
              "      <td>Guatemala</td>\n",
              "      <td>MX,HN,BZ,SV</td>\n",
              "      <td>320</td>\n",
              "      <td>502</td>\n",
              "      <td>13550440</td>\n",
              "      <td>#####</td>\n",
              "      <td>^(\\d{5})$</td>\n",
              "      <td>.gt</td>\n",
              "    </tr>\n",
              "    <tr>\n",
              "      <th>96</th>\n",
              "      <td>HN</td>\n",
              "      <td>HND</td>\n",
              "      <td>112090.0</td>\n",
              "      <td>Tegucigalpa</td>\n",
              "      <td></td>\n",
              "      <td>HNL</td>\n",
              "      <td>Lempira</td>\n",
              "      <td></td>\n",
              "      <td>HO</td>\n",
              "      <td>3608932</td>\n",
              "      <td>es-HN</td>\n",
              "      <td>Honduras</td>\n",
              "      <td>GT,NI,SV</td>\n",
              "      <td>340</td>\n",
              "      <td>504</td>\n",
              "      <td>7989415</td>\n",
              "      <td>@@####</td>\n",
              "      <td>^([A-Z]{2}\\d{4})$</td>\n",
              "      <td>.hn</td>\n",
              "    </tr>\n",
              "    <tr>\n",
              "      <th>157</th>\n",
              "      <td>MX</td>\n",
              "      <td>MEX</td>\n",
              "      <td>1972550.0</td>\n",
              "      <td>Mexico City</td>\n",
              "      <td></td>\n",
              "      <td>MXN</td>\n",
              "      <td>Peso</td>\n",
              "      <td></td>\n",
              "      <td>MX</td>\n",
              "      <td>3996063</td>\n",
              "      <td>es-MX</td>\n",
              "      <td>Mexico</td>\n",
              "      <td>GT,US,BZ</td>\n",
              "      <td>484</td>\n",
              "      <td>52</td>\n",
              "      <td>112468855</td>\n",
              "      <td>#####</td>\n",
              "      <td>^(\\d{5})$</td>\n",
              "      <td>.mx</td>\n",
              "    </tr>\n",
              "    <tr>\n",
              "      <th>165</th>\n",
              "      <td>NI</td>\n",
              "      <td>NIC</td>\n",
              "      <td>129494.0</td>\n",
              "      <td>Managua</td>\n",
              "      <td></td>\n",
              "      <td>NIO</td>\n",
              "      <td>Cordoba</td>\n",
              "      <td></td>\n",
              "      <td>NU</td>\n",
              "      <td>3617476</td>\n",
              "      <td>es-NI,en</td>\n",
              "      <td>Nicaragua</td>\n",
              "      <td>CR,HN</td>\n",
              "      <td>558</td>\n",
              "      <td>505</td>\n",
              "      <td>5995928</td>\n",
              "      <td>###-###-#</td>\n",
              "      <td>^(\\d{7})$</td>\n",
              "      <td>.ni</td>\n",
              "    </tr>\n",
              "    <tr>\n",
              "      <th>173</th>\n",
              "      <td>PA</td>\n",
              "      <td>PAN</td>\n",
              "      <td>78200.0</td>\n",
              "      <td>Panama City</td>\n",
              "      <td></td>\n",
              "      <td>PAB</td>\n",
              "      <td>Balboa</td>\n",
              "      <td></td>\n",
              "      <td>PM</td>\n",
              "      <td>3703430</td>\n",
              "      <td>es-PA,en</td>\n",
              "      <td>Panama</td>\n",
              "      <td>CR,CO</td>\n",
              "      <td>591</td>\n",
              "      <td>507</td>\n",
              "      <td>3410676</td>\n",
              "      <td></td>\n",
              "      <td></td>\n",
              "      <td>.pa</td>\n",
              "    </tr>\n",
              "    <tr>\n",
              "      <th>174</th>\n",
              "      <td>PE</td>\n",
              "      <td>PER</td>\n",
              "      <td>1285220.0</td>\n",
              "      <td>Lima</td>\n",
              "      <td>SA</td>\n",
              "      <td>PEN</td>\n",
              "      <td>Sol</td>\n",
              "      <td></td>\n",
              "      <td>PE</td>\n",
              "      <td>3932488</td>\n",
              "      <td>es-PE,qu,ay</td>\n",
              "      <td>Peru</td>\n",
              "      <td>EC,CL,BO,BR,CO</td>\n",
              "      <td>604</td>\n",
              "      <td>51</td>\n",
              "      <td>29907003</td>\n",
              "      <td></td>\n",
              "      <td></td>\n",
              "      <td>.pe</td>\n",
              "    </tr>\n",
              "    <tr>\n",
              "      <th>182</th>\n",
              "      <td>PR</td>\n",
              "      <td>PRI</td>\n",
              "      <td>9104.0</td>\n",
              "      <td>San Juan</td>\n",
              "      <td></td>\n",
              "      <td>USD</td>\n",
              "      <td>Dollar</td>\n",
              "      <td></td>\n",
              "      <td>RQ</td>\n",
              "      <td>4566966</td>\n",
              "      <td>en-PR,es-PR</td>\n",
              "      <td>Puerto Rico</td>\n",
              "      <td></td>\n",
              "      <td>630</td>\n",
              "      <td>+1-787 and 1-939</td>\n",
              "      <td>3916632</td>\n",
              "      <td>#####-####</td>\n",
              "      <td>^00[679]\\d{2}(?:-\\d{4})?$</td>\n",
              "      <td>.pr</td>\n",
              "    </tr>\n",
              "    <tr>\n",
              "      <th>186</th>\n",
              "      <td>PY</td>\n",
              "      <td>PRY</td>\n",
              "      <td>406750.0</td>\n",
              "      <td>Asuncion</td>\n",
              "      <td>SA</td>\n",
              "      <td>PYG</td>\n",
              "      <td>Guarani</td>\n",
              "      <td></td>\n",
              "      <td>PA</td>\n",
              "      <td>3437598</td>\n",
              "      <td>es-PY,gn</td>\n",
              "      <td>Paraguay</td>\n",
              "      <td>BO,BR,AR</td>\n",
              "      <td>600</td>\n",
              "      <td>595</td>\n",
              "      <td>6375830</td>\n",
              "      <td>####</td>\n",
              "      <td>^(\\d{4})$</td>\n",
              "      <td>.py</td>\n",
              "    </tr>\n",
              "    <tr>\n",
              "      <th>187</th>\n",
              "      <td>QA</td>\n",
              "      <td>QAT</td>\n",
              "      <td>11437.0</td>\n",
              "      <td>Doha</td>\n",
              "      <td>AS</td>\n",
              "      <td>QAR</td>\n",
              "      <td>Rial</td>\n",
              "      <td></td>\n",
              "      <td>QA</td>\n",
              "      <td>289688</td>\n",
              "      <td>ar-QA,es</td>\n",
              "      <td>Qatar</td>\n",
              "      <td>SA</td>\n",
              "      <td>634</td>\n",
              "      <td>974</td>\n",
              "      <td>840926</td>\n",
              "      <td></td>\n",
              "      <td></td>\n",
              "      <td>.qa</td>\n",
              "    </tr>\n",
              "    <tr>\n",
              "      <th>210</th>\n",
              "      <td>SV</td>\n",
              "      <td>SLV</td>\n",
              "      <td>21040.0</td>\n",
              "      <td>San Salvador</td>\n",
              "      <td></td>\n",
              "      <td>USD</td>\n",
              "      <td>Dollar</td>\n",
              "      <td></td>\n",
              "      <td>ES</td>\n",
              "      <td>3585968</td>\n",
              "      <td>es-SV</td>\n",
              "      <td>El Salvador</td>\n",
              "      <td>GT,HN</td>\n",
              "      <td>222</td>\n",
              "      <td>503</td>\n",
              "      <td>6052064</td>\n",
              "      <td>CP ####</td>\n",
              "      <td>^(?:CP)*(\\d{4})$</td>\n",
              "      <td>.sv</td>\n",
              "    </tr>\n",
              "    <tr>\n",
              "      <th>226</th>\n",
              "      <td>TT</td>\n",
              "      <td>TTO</td>\n",
              "      <td>5128.0</td>\n",
              "      <td>Port of Spain</td>\n",
              "      <td></td>\n",
              "      <td>TTD</td>\n",
              "      <td>Dollar</td>\n",
              "      <td></td>\n",
              "      <td>TD</td>\n",
              "      <td>3573591</td>\n",
              "      <td>en-TT,hns,fr,es,zh</td>\n",
              "      <td>Trinidad and Tobago</td>\n",
              "      <td></td>\n",
              "      <td>780</td>\n",
              "      <td>+1-868</td>\n",
              "      <td>1228691</td>\n",
              "      <td></td>\n",
              "      <td></td>\n",
              "      <td>.tt</td>\n",
              "    </tr>\n",
              "    <tr>\n",
              "      <th>233</th>\n",
              "      <td>US</td>\n",
              "      <td>USA</td>\n",
              "      <td>9629091.0</td>\n",
              "      <td>Washington</td>\n",
              "      <td></td>\n",
              "      <td>USD</td>\n",
              "      <td>Dollar</td>\n",
              "      <td></td>\n",
              "      <td>US</td>\n",
              "      <td>6252001</td>\n",
              "      <td>en-US,es-US,haw,fr</td>\n",
              "      <td>United States</td>\n",
              "      <td>CA,MX,CU</td>\n",
              "      <td>840</td>\n",
              "      <td>1</td>\n",
              "      <td>310232863</td>\n",
              "      <td>#####-####</td>\n",
              "      <td>^\\d{5}(-\\d{4})?$</td>\n",
              "      <td>.us</td>\n",
              "    </tr>\n",
              "    <tr>\n",
              "      <th>234</th>\n",
              "      <td>UY</td>\n",
              "      <td>URY</td>\n",
              "      <td>176220.0</td>\n",
              "      <td>Montevideo</td>\n",
              "      <td>SA</td>\n",
              "      <td>UYU</td>\n",
              "      <td>Peso</td>\n",
              "      <td></td>\n",
              "      <td>UY</td>\n",
              "      <td>3439705</td>\n",
              "      <td>es-UY</td>\n",
              "      <td>Uruguay</td>\n",
              "      <td>BR,AR</td>\n",
              "      <td>858</td>\n",
              "      <td>598</td>\n",
              "      <td>3477000</td>\n",
              "      <td>#####</td>\n",
              "      <td>^(\\d{5})$</td>\n",
              "      <td>.uy</td>\n",
              "    </tr>\n",
              "    <tr>\n",
              "      <th>238</th>\n",
              "      <td>VE</td>\n",
              "      <td>VEN</td>\n",
              "      <td>912050.0</td>\n",
              "      <td>Caracas</td>\n",
              "      <td>SA</td>\n",
              "      <td>VEF</td>\n",
              "      <td>Bolivar</td>\n",
              "      <td></td>\n",
              "      <td>VE</td>\n",
              "      <td>3625428</td>\n",
              "      <td>es-VE</td>\n",
              "      <td>Venezuela</td>\n",
              "      <td>GY,BR,CO</td>\n",
              "      <td>862</td>\n",
              "      <td>58</td>\n",
              "      <td>27223228</td>\n",
              "      <td>####</td>\n",
              "      <td>^(\\d{4})$</td>\n",
              "      <td>.ve</td>\n",
              "    </tr>\n",
              "    <tr>\n",
              "      <th>251</th>\n",
              "      <td>AN</td>\n",
              "      <td>ANT</td>\n",
              "      <td>960.0</td>\n",
              "      <td>Willemstad</td>\n",
              "      <td></td>\n",
              "      <td>ANG</td>\n",
              "      <td>Guilder</td>\n",
              "      <td></td>\n",
              "      <td>NT</td>\n",
              "      <td>8505032</td>\n",
              "      <td>nl-AN,en,es</td>\n",
              "      <td>Netherlands Antilles</td>\n",
              "      <td>GP</td>\n",
              "      <td>530</td>\n",
              "      <td>599</td>\n",
              "      <td>300000</td>\n",
              "      <td></td>\n",
              "      <td></td>\n",
              "      <td>.an</td>\n",
              "    </tr>\n",
              "  </tbody>\n",
              "</table>\n",
              "</div>\n",
              "      <button class=\"colab-df-convert\" onclick=\"convertToInteractive('df-62cfa826-e959-418c-b35f-ab909049e65d')\"\n",
              "              title=\"Convert this dataframe to an interactive table.\"\n",
              "              style=\"display:none;\">\n",
              "        \n",
              "  <svg xmlns=\"http://www.w3.org/2000/svg\" height=\"24px\"viewBox=\"0 0 24 24\"\n",
              "       width=\"24px\">\n",
              "    <path d=\"M0 0h24v24H0V0z\" fill=\"none\"/>\n",
              "    <path d=\"M18.56 5.44l.94 2.06.94-2.06 2.06-.94-2.06-.94-.94-2.06-.94 2.06-2.06.94zm-11 1L8.5 8.5l.94-2.06 2.06-.94-2.06-.94L8.5 2.5l-.94 2.06-2.06.94zm10 10l.94 2.06.94-2.06 2.06-.94-2.06-.94-.94-2.06-.94 2.06-2.06.94z\"/><path d=\"M17.41 7.96l-1.37-1.37c-.4-.4-.92-.59-1.43-.59-.52 0-1.04.2-1.43.59L10.3 9.45l-7.72 7.72c-.78.78-.78 2.05 0 2.83L4 21.41c.39.39.9.59 1.41.59.51 0 1.02-.2 1.41-.59l7.78-7.78 2.81-2.81c.8-.78.8-2.07 0-2.86zM5.41 20L4 18.59l7.72-7.72 1.47 1.35L5.41 20z\"/>\n",
              "  </svg>\n",
              "      </button>\n",
              "      \n",
              "  <style>\n",
              "    .colab-df-container {\n",
              "      display:flex;\n",
              "      flex-wrap:wrap;\n",
              "      gap: 12px;\n",
              "    }\n",
              "\n",
              "    .colab-df-convert {\n",
              "      background-color: #E8F0FE;\n",
              "      border: none;\n",
              "      border-radius: 50%;\n",
              "      cursor: pointer;\n",
              "      display: none;\n",
              "      fill: #1967D2;\n",
              "      height: 32px;\n",
              "      padding: 0 0 0 0;\n",
              "      width: 32px;\n",
              "    }\n",
              "\n",
              "    .colab-df-convert:hover {\n",
              "      background-color: #E2EBFA;\n",
              "      box-shadow: 0px 1px 2px rgba(60, 64, 67, 0.3), 0px 1px 3px 1px rgba(60, 64, 67, 0.15);\n",
              "      fill: #174EA6;\n",
              "    }\n",
              "\n",
              "    [theme=dark] .colab-df-convert {\n",
              "      background-color: #3B4455;\n",
              "      fill: #D2E3FC;\n",
              "    }\n",
              "\n",
              "    [theme=dark] .colab-df-convert:hover {\n",
              "      background-color: #434B5C;\n",
              "      box-shadow: 0px 1px 3px 1px rgba(0, 0, 0, 0.15);\n",
              "      filter: drop-shadow(0px 1px 2px rgba(0, 0, 0, 0.3));\n",
              "      fill: #FFFFFF;\n",
              "    }\n",
              "  </style>\n",
              "\n",
              "      <script>\n",
              "        const buttonEl =\n",
              "          document.querySelector('#df-62cfa826-e959-418c-b35f-ab909049e65d button.colab-df-convert');\n",
              "        buttonEl.style.display =\n",
              "          google.colab.kernel.accessAllowed ? 'block' : 'none';\n",
              "\n",
              "        async function convertToInteractive(key) {\n",
              "          const element = document.querySelector('#df-62cfa826-e959-418c-b35f-ab909049e65d');\n",
              "          const dataTable =\n",
              "            await google.colab.kernel.invokeFunction('convertToInteractive',\n",
              "                                                     [key], {});\n",
              "          if (!dataTable) return;\n",
              "\n",
              "          const docLinkHtml = 'Like what you see? Visit the ' +\n",
              "            '<a target=\"_blank\" href=https://colab.research.google.com/notebooks/data_table.ipynb>data table notebook</a>'\n",
              "            + ' to learn more about interactive tables.';\n",
              "          element.innerHTML = '';\n",
              "          dataTable['output_type'] = 'display_data';\n",
              "          await google.colab.output.renderOutput(dataTable, element);\n",
              "          const docLink = document.createElement('div');\n",
              "          docLink.innerHTML = docLinkHtml;\n",
              "          element.appendChild(docLink);\n",
              "        }\n",
              "      </script>\n",
              "    </div>\n",
              "  </div>\n",
              "  "
            ]
          },
          "metadata": {},
          "execution_count": 17
        }
      ],
      "source": [
        "#DataFrame. replace() reemplaza los valores en el DataFrame \n",
        "#con otros valores, que pueden ser string, regex, list, diccionario, Series , o un número.\n",
        "df_espanol = df.replace(np.nan, '', regex=True)  #numpy. nan es un valor especial de la librería NumPy que representa el valor nulo.\n",
        "df_espanol = df_espanol[ df_espanol['languages'].str.contains('es') ] #contains() función Pandas se usa para probar si el patrón o la expresión regular están contenidos dentro de una cadena de una serie o índice.\n",
        "#lo que hace es traer de la columna languages los paises que hablan es (español) figura abreviado con esa sigla \n",
        "df_espanol"
      ]
    },
    {
      "cell_type": "code",
      "execution_count": null,
      "id": "f1781e5e",
      "metadata": {
        "id": "f1781e5e"
      },
      "outputs": [],
      "source": [
        "df_espanol.shape #Muestra el total de las filas y columnas"
      ]
    },
    {
      "cell_type": "markdown",
      "id": "ce22e01d",
      "metadata": {
        "id": "ce22e01d"
      },
      "source": [
        "**Visualizamos por población"
      ]
    },
    {
      "cell_type": "code",
      "execution_count": null,
      "id": "723fdcb9",
      "metadata": {
        "id": "723fdcb9"
      },
      "outputs": [],
      "source": [
        "df_espanol.set_index('alpha_3')[['population','area']].plot(kind='bar',rot=65,figsize=(20,10))\n",
        "#DataFrame. set_index() se puede utilizar para establecer matrices o columnas de longitud apropiada como índice del DataFrame \n",
        "#incluso después de la creación del DataFrame. \n",
        "#El nuevo índice establecido puede reemplazar al índice existente o también puede ser expandido sobre el existente"
      ]
    },
    {
      "cell_type": "markdown",
      "id": "faad5c94",
      "metadata": {
        "id": "faad5c94"
      },
      "source": [
        "**Detección de Outliers\n",
        "Vamos a hacer detección de Outliers²³, en este caso definimos como límite superior (e inferior) la\n",
        "media más (menos) “2 veces la desviación estándar” que muchas veces es tomada como máximos\n",
        "de tolerancia.\n",
        "Un outlier o dato extremo es una observación que se desvıa de las otras o en otro sentido, datos que parecen inconsistentes con el conjunto de datos. Los métodos para detección de outliers pueden ser clasificados como univariantes y multivariantes.\n",
        "Un outlier es una observación anormal y extrema en una muestra estadística o serie temporal de datos que puede afectar potencialmente a la estimación de los parámetros del mismo.\n",
        "¿Cómo detectar outliers?\n",
        "La detección de outliers sólo es posible cuando se realiza un análisis multivariante y las interacciones entre las diferentes variables se comparan dentro de la clase de datos"
      ]
    },
    {
      "cell_type": "code",
      "execution_count": null,
      "id": "9a5bfd2e",
      "metadata": {
        "id": "9a5bfd2e"
      },
      "outputs": [],
      "source": [
        "anomalies = []\n",
        "\n",
        "# Funcion ejemplo para detección de outliers\n",
        "def find_anomalies(data):\n",
        "    # Set upper and lower limit to 2 standard deviation /Establecer límite superior e inferior a 2 desviación estándar\n",
        "    data_std = data.std() # la función Numpy.std() calcula la desviación estándar de todos los valores de el array.\n",
        "    data_mean = data.mean() #mean()La función se puede usar para calcular la media \n",
        "    #/ promedio de una lista dada de números. Devuelve la media del conjunto de datos pasado como parámetros.\n",
        "    anomaly_cut_off = data_std * 2\n",
        "    lower_limit  = data_mean - anomaly_cut_off \n",
        "    upper_limit = data_mean + anomaly_cut_off\n",
        "    print(lower_limit.iloc[0])\n",
        "    print(upper_limit.iloc[0])\n",
        "\n",
        "    # Generate outliers / Generar valores atípicos\n",
        "    for index, row in data.iterrows(): #el bucle for Indexar columna en..iterrows() devuelve los datos de las filas como series de Pandas.\n",
        "        outlier = row # # obtener primer columna\n",
        "        # print(outlier)\n",
        "        if (outlier.iloc[0] > upper_limit.iloc[0]) or (outlier.iloc[0] < lower_limit.iloc[0]): #El método iloc se utiliza en los DataFrames para seleccionar los elementos en base a su ubicación. Su sintaxis es data. iloc[<filas>, <columnas>] , donde <filas> y <columnas> son la posición de las filas y columnas que se desean seleccionar en el orden que aparecen en el objeto\n",
        "            anomalies.append(index)\n",
        "    return anomalies\n",
        "\n",
        "find_anomalies(df_espanol.set_index('alpha_3')[['population']])\n"
      ]
    },
    {
      "cell_type": "markdown",
      "id": "ac4507e5",
      "metadata": {
        "id": "ac4507e5"
      },
      "source": [
        "Detectamos como outliers a Brasil y a USA. Los eliminamos y graficamos ordenado por población\n",
        "de menor a mayor."
      ]
    },
    {
      "cell_type": "code",
      "execution_count": null,
      "id": "0d1eaa8e",
      "metadata": {
        "id": "0d1eaa8e"
      },
      "outputs": [],
      "source": [
        "# Quitemos BRA y USA por ser outlies y volvamos a graficar:\n",
        "df_espanol.drop([30,233], inplace=True)\n",
        "#El método . drop() asociado a un dataframe pandas devuelve una copia del mismo tras eliminar las filas o columnas indicadas. Éstas deberán referenciarse por sus etiquetas explícitas, no por su posición en el eje. La eliminación se realiza, por defecto, en el eje vertical (se eliminan filas, por lo tanto)."
      ]
    },
    {
      "cell_type": "code",
      "execution_count": null,
      "id": "b19d55d0",
      "metadata": {
        "id": "b19d55d0",
        "outputId": "cd8fb989-62b8-4a44-dadb-d6e6bfa5485d"
      },
      "outputs": [
        {
          "data": {
            "text/plain": [
              "<AxesSubplot:xlabel='alpha_3'>"
            ]
          },
          "execution_count": 81,
          "metadata": {},
          "output_type": "execute_result"
        },
        {
          "data": {
            "image/png": "[encoded data removed]",
            "text/plain": [
              "<Figure size 1440x720 with 1 Axes>"
            ]
          },
          "metadata": {
            "needs_background": "light"
          },
          "output_type": "display_data"
        }
      ],
      "source": [
        "#este gráfico no sale ordenando como en el apunte\n",
        "\n",
        "df_espanol.set_index('alpha_3')[['population','area']].plot(kind='bar',rot=65,figsize=(20,10))\n",
        "#set_index() se puede utilizar para establecer matrices o columnas de longitud apropiada como índice del DataFrame incluso después de la creación del DataFrame. El nuevo índice establecido puede reemplazar al índice existente o también puede ser expandido sobre el existente\n",
        "#df_espanol.sort_values (\"population\") ordena en orden ascendente el df"
      ]
    },
    {
      "cell_type": "markdown",
      "id": "7b03575d",
      "metadata": {
        "id": "7b03575d"
      },
      "source": [
        "Así queda nuestra gráfica sin outliers :)\n",
        "En pocos minutos hemos podido responder: cuántos datos tenemos, si hay nulos, los tipos de datos\n",
        "(entero, float, string), su correlación, hicimos visualizaciones, comparativas, manipulación de datos,\n",
        "detección de outliers y volver a graficar. ¿No está nada mal, no?"
      ]
    },
    {
      "cell_type": "markdown",
      "id": "7811e022",
      "metadata": {
        "id": "7811e022"
      },
      "source": [
        "Como manipular Panda\n",
        "\n",
        "https://github.com/jbagnato/machine-learning/blob/master/Manipulacion_datos_pandas.ipynb"
      ]
    },
    {
      "cell_type": "markdown",
      "id": "40fedddf",
      "metadata": {
        "id": "40fedddf"
      },
      "source": [
        "**Graficamos ordenando por tamaño Población\n",
        "le agrego a lo anterior el .sort_values"
      ]
    },
    {
      "cell_type": "code",
      "execution_count": null,
      "id": "841ef205",
      "metadata": {
        "id": "841ef205",
        "outputId": "67799f55-fd56-4250-827c-db56711c4954"
      },
      "outputs": [
        {
          "data": {
            "text/plain": [
              "<AxesSubplot:xlabel='alpha_3'>"
            ]
          },
          "execution_count": 82,
          "metadata": {},
          "output_type": "execute_result"
        },
        {
          "data": {
            "image/png": "[encoded data removed]",
            "text/plain": [
              "<Figure size 1440x720 with 1 Axes>"
            ]
          },
          "metadata": {
            "needs_background": "light"
          },
          "output_type": "display_data"
        }
      ],
      "source": [
        "df_espanol.set_index('alpha_3')[['population','area']].sort_values([\"population\"]).plot(kind='bar',rot=65,figsize=(20,10))"
      ]
    },
    {
      "cell_type": "markdown",
      "id": "344ce8f7",
      "metadata": {
        "id": "344ce8f7"
      },
      "source": [
        "**Visualización por Área"
      ]
    },
    {
      "cell_type": "code",
      "execution_count": null,
      "id": "23b5ccee",
      "metadata": {
        "id": "23b5ccee",
        "outputId": "6fc46de7-a6e6-45cb-d4f3-89384d6c995e"
      },
      "outputs": [
        {
          "data": {
            "text/plain": [
              "<AxesSubplot:xlabel='alpha_3'>"
            ]
          },
          "execution_count": 83,
          "metadata": {},
          "output_type": "execute_result"
        },
        {
          "data": {
            "image/png": "[encoded data removed]",
            "text/plain": [
              "<Figure size 1440x720 with 1 Axes>"
            ]
          },
          "metadata": {
            "needs_background": "light"
          },
          "output_type": "display_data"
        }
      ],
      "source": [
        "df_espanol.set_index('alpha_3')[['area']].sort_values([\"area\"]).plot(kind='bar',rot=65,figsize=(20,10))"
      ]
    },
    {
      "cell_type": "code",
      "execution_count": null,
      "id": "a8092675",
      "metadata": {
        "id": "a8092675",
        "outputId": "a1b1bf52-1fb1-4b2e-86e8-7acfcbfc367f"
      },
      "outputs": [
        {
          "data": {
            "text/html": [
              "<div>\n",
              "<style scoped>\n",
              "    .dataframe tbody tr th:only-of-type {\n",
              "        vertical-align: middle;\n",
              "    }\n",
              "\n",
              "    .dataframe tbody tr th {\n",
              "        vertical-align: top;\n",
              "    }\n",
              "\n",
              "    .dataframe thead th {\n",
              "        text-align: right;\n",
              "    }\n",
              "</style>\n",
              "<table border=\"1\" class=\"dataframe\">\n",
              "  <thead>\n",
              "    <tr style=\"text-align: right;\">\n",
              "      <th></th>\n",
              "      <th>alpha_2</th>\n",
              "      <th>area</th>\n",
              "      <th>capital</th>\n",
              "      <th>continent</th>\n",
              "      <th>currency_code</th>\n",
              "      <th>currency_name</th>\n",
              "      <th>eqivalent_fips_code</th>\n",
              "      <th>fips</th>\n",
              "      <th>geoname_id</th>\n",
              "      <th>languages</th>\n",
              "      <th>name</th>\n",
              "      <th>neighbours</th>\n",
              "      <th>numeric</th>\n",
              "      <th>phone</th>\n",
              "      <th>population</th>\n",
              "      <th>postal_code_format</th>\n",
              "      <th>postal_code_regex</th>\n",
              "      <th>tld</th>\n",
              "    </tr>\n",
              "    <tr>\n",
              "      <th>alpha_3</th>\n",
              "      <th></th>\n",
              "      <th></th>\n",
              "      <th></th>\n",
              "      <th></th>\n",
              "      <th></th>\n",
              "      <th></th>\n",
              "      <th></th>\n",
              "      <th></th>\n",
              "      <th></th>\n",
              "      <th></th>\n",
              "      <th></th>\n",
              "      <th></th>\n",
              "      <th></th>\n",
              "      <th></th>\n",
              "      <th></th>\n",
              "      <th></th>\n",
              "      <th></th>\n",
              "      <th></th>\n",
              "    </tr>\n",
              "  </thead>\n",
              "  <tbody>\n",
              "    <tr>\n",
              "      <th>ARG</th>\n",
              "      <td>AR</td>\n",
              "      <td>2766890.0</td>\n",
              "      <td>Buenos Aires</td>\n",
              "      <td>SA</td>\n",
              "      <td>ARS</td>\n",
              "      <td>Peso</td>\n",
              "      <td></td>\n",
              "      <td>AR</td>\n",
              "      <td>3865483</td>\n",
              "      <td>es-AR,en,it,de,fr,gn</td>\n",
              "      <td>Argentina</td>\n",
              "      <td>CL,BO,UY,PY,BR</td>\n",
              "      <td>32</td>\n",
              "      <td>54</td>\n",
              "      <td>41343201</td>\n",
              "      <td>@####@@@</td>\n",
              "      <td>^[A-Z]?\\d{4}[A-Z]{0,3}$</td>\n",
              "      <td>.ar</td>\n",
              "    </tr>\n",
              "    <tr>\n",
              "      <th>BOL</th>\n",
              "      <td>BO</td>\n",
              "      <td>1098580.0</td>\n",
              "      <td>Sucre</td>\n",
              "      <td>SA</td>\n",
              "      <td>BOB</td>\n",
              "      <td>Boliviano</td>\n",
              "      <td></td>\n",
              "      <td>BL</td>\n",
              "      <td>3923057</td>\n",
              "      <td>es-BO,qu,ay</td>\n",
              "      <td>Bolivia</td>\n",
              "      <td>PE,CL,PY,BR,AR</td>\n",
              "      <td>68</td>\n",
              "      <td>591</td>\n",
              "      <td>9947418</td>\n",
              "      <td></td>\n",
              "      <td></td>\n",
              "      <td>.bo</td>\n",
              "    </tr>\n",
              "    <tr>\n",
              "      <th>CHL</th>\n",
              "      <td>CL</td>\n",
              "      <td>756950.0</td>\n",
              "      <td>Santiago</td>\n",
              "      <td>SA</td>\n",
              "      <td>CLP</td>\n",
              "      <td>Peso</td>\n",
              "      <td></td>\n",
              "      <td>CI</td>\n",
              "      <td>3895114</td>\n",
              "      <td>es-CL</td>\n",
              "      <td>Chile</td>\n",
              "      <td>PE,BO,AR</td>\n",
              "      <td>152</td>\n",
              "      <td>56</td>\n",
              "      <td>16746491</td>\n",
              "      <td>#######</td>\n",
              "      <td>^(\\d{7})$</td>\n",
              "      <td>.cl</td>\n",
              "    </tr>\n",
              "    <tr>\n",
              "      <th>COL</th>\n",
              "      <td>CO</td>\n",
              "      <td>1138910.0</td>\n",
              "      <td>Bogota</td>\n",
              "      <td>SA</td>\n",
              "      <td>COP</td>\n",
              "      <td>Peso</td>\n",
              "      <td></td>\n",
              "      <td>CO</td>\n",
              "      <td>3686110</td>\n",
              "      <td>es-CO</td>\n",
              "      <td>Colombia</td>\n",
              "      <td>EC,PE,PA,BR,VE</td>\n",
              "      <td>170</td>\n",
              "      <td>57</td>\n",
              "      <td>47790000</td>\n",
              "      <td></td>\n",
              "      <td></td>\n",
              "      <td>.co</td>\n",
              "    </tr>\n",
              "    <tr>\n",
              "      <th>CUB</th>\n",
              "      <td>CU</td>\n",
              "      <td>110860.0</td>\n",
              "      <td>Havana</td>\n",
              "      <td></td>\n",
              "      <td>CUP</td>\n",
              "      <td>Peso</td>\n",
              "      <td></td>\n",
              "      <td>CU</td>\n",
              "      <td>3562981</td>\n",
              "      <td>es-CU</td>\n",
              "      <td>Cuba</td>\n",
              "      <td>US</td>\n",
              "      <td>192</td>\n",
              "      <td>53</td>\n",
              "      <td>11423000</td>\n",
              "      <td>CP #####</td>\n",
              "      <td>^(?:CP)*(\\d{5})$</td>\n",
              "      <td>.cu</td>\n",
              "    </tr>\n",
              "    <tr>\n",
              "      <th>ECU</th>\n",
              "      <td>EC</td>\n",
              "      <td>283560.0</td>\n",
              "      <td>Quito</td>\n",
              "      <td>SA</td>\n",
              "      <td>USD</td>\n",
              "      <td>Dollar</td>\n",
              "      <td></td>\n",
              "      <td>EC</td>\n",
              "      <td>3658394</td>\n",
              "      <td>es-EC</td>\n",
              "      <td>Ecuador</td>\n",
              "      <td>PE,CO</td>\n",
              "      <td>218</td>\n",
              "      <td>593</td>\n",
              "      <td>14790608</td>\n",
              "      <td>@####@</td>\n",
              "      <td>^([a-zA-Z]\\d{4}[a-zA-Z])$</td>\n",
              "      <td>.ec</td>\n",
              "    </tr>\n",
              "    <tr>\n",
              "      <th>ESP</th>\n",
              "      <td>ES</td>\n",
              "      <td>504782.0</td>\n",
              "      <td>Madrid</td>\n",
              "      <td>EU</td>\n",
              "      <td>EUR</td>\n",
              "      <td>Euro</td>\n",
              "      <td></td>\n",
              "      <td>SP</td>\n",
              "      <td>2510769</td>\n",
              "      <td>es-ES,ca,gl,eu,oc</td>\n",
              "      <td>Spain</td>\n",
              "      <td>AD,PT,GI,FR,MA</td>\n",
              "      <td>724</td>\n",
              "      <td>34</td>\n",
              "      <td>46505963</td>\n",
              "      <td>#####</td>\n",
              "      <td>^(\\d{5})$</td>\n",
              "      <td>.es</td>\n",
              "    </tr>\n",
              "    <tr>\n",
              "      <th>HND</th>\n",
              "      <td>HN</td>\n",
              "      <td>112090.0</td>\n",
              "      <td>Tegucigalpa</td>\n",
              "      <td></td>\n",
              "      <td>HNL</td>\n",
              "      <td>Lempira</td>\n",
              "      <td></td>\n",
              "      <td>HO</td>\n",
              "      <td>3608932</td>\n",
              "      <td>es-HN</td>\n",
              "      <td>Honduras</td>\n",
              "      <td>GT,NI,SV</td>\n",
              "      <td>340</td>\n",
              "      <td>504</td>\n",
              "      <td>7989415</td>\n",
              "      <td>@@####</td>\n",
              "      <td>^([A-Z]{2}\\d{4})$</td>\n",
              "      <td>.hn</td>\n",
              "    </tr>\n",
              "    <tr>\n",
              "      <th>MEX</th>\n",
              "      <td>MX</td>\n",
              "      <td>1972550.0</td>\n",
              "      <td>Mexico City</td>\n",
              "      <td></td>\n",
              "      <td>MXN</td>\n",
              "      <td>Peso</td>\n",
              "      <td></td>\n",
              "      <td>MX</td>\n",
              "      <td>3996063</td>\n",
              "      <td>es-MX</td>\n",
              "      <td>Mexico</td>\n",
              "      <td>GT,US,BZ</td>\n",
              "      <td>484</td>\n",
              "      <td>52</td>\n",
              "      <td>112468855</td>\n",
              "      <td>#####</td>\n",
              "      <td>^(\\d{5})$</td>\n",
              "      <td>.mx</td>\n",
              "    </tr>\n",
              "    <tr>\n",
              "      <th>NIC</th>\n",
              "      <td>NI</td>\n",
              "      <td>129494.0</td>\n",
              "      <td>Managua</td>\n",
              "      <td></td>\n",
              "      <td>NIO</td>\n",
              "      <td>Cordoba</td>\n",
              "      <td></td>\n",
              "      <td>NU</td>\n",
              "      <td>3617476</td>\n",
              "      <td>es-NI,en</td>\n",
              "      <td>Nicaragua</td>\n",
              "      <td>CR,HN</td>\n",
              "      <td>558</td>\n",
              "      <td>505</td>\n",
              "      <td>5995928</td>\n",
              "      <td>###-###-#</td>\n",
              "      <td>^(\\d{7})$</td>\n",
              "      <td>.ni</td>\n",
              "    </tr>\n",
              "    <tr>\n",
              "      <th>PER</th>\n",
              "      <td>PE</td>\n",
              "      <td>1285220.0</td>\n",
              "      <td>Lima</td>\n",
              "      <td>SA</td>\n",
              "      <td>PEN</td>\n",
              "      <td>Sol</td>\n",
              "      <td></td>\n",
              "      <td>PE</td>\n",
              "      <td>3932488</td>\n",
              "      <td>es-PE,qu,ay</td>\n",
              "      <td>Peru</td>\n",
              "      <td>EC,CL,BO,BR,CO</td>\n",
              "      <td>604</td>\n",
              "      <td>51</td>\n",
              "      <td>29907003</td>\n",
              "      <td></td>\n",
              "      <td></td>\n",
              "      <td>.pe</td>\n",
              "    </tr>\n",
              "    <tr>\n",
              "      <th>PRY</th>\n",
              "      <td>PY</td>\n",
              "      <td>406750.0</td>\n",
              "      <td>Asuncion</td>\n",
              "      <td>SA</td>\n",
              "      <td>PYG</td>\n",
              "      <td>Guarani</td>\n",
              "      <td></td>\n",
              "      <td>PA</td>\n",
              "      <td>3437598</td>\n",
              "      <td>es-PY,gn</td>\n",
              "      <td>Paraguay</td>\n",
              "      <td>BO,BR,AR</td>\n",
              "      <td>600</td>\n",
              "      <td>595</td>\n",
              "      <td>6375830</td>\n",
              "      <td>####</td>\n",
              "      <td>^(\\d{4})$</td>\n",
              "      <td>.py</td>\n",
              "    </tr>\n",
              "    <tr>\n",
              "      <th>URY</th>\n",
              "      <td>UY</td>\n",
              "      <td>176220.0</td>\n",
              "      <td>Montevideo</td>\n",
              "      <td>SA</td>\n",
              "      <td>UYU</td>\n",
              "      <td>Peso</td>\n",
              "      <td></td>\n",
              "      <td>UY</td>\n",
              "      <td>3439705</td>\n",
              "      <td>es-UY</td>\n",
              "      <td>Uruguay</td>\n",
              "      <td>BR,AR</td>\n",
              "      <td>858</td>\n",
              "      <td>598</td>\n",
              "      <td>3477000</td>\n",
              "      <td>#####</td>\n",
              "      <td>^(\\d{5})$</td>\n",
              "      <td>.uy</td>\n",
              "    </tr>\n",
              "    <tr>\n",
              "      <th>VEN</th>\n",
              "      <td>VE</td>\n",
              "      <td>912050.0</td>\n",
              "      <td>Caracas</td>\n",
              "      <td>SA</td>\n",
              "      <td>VEF</td>\n",
              "      <td>Bolivar</td>\n",
              "      <td></td>\n",
              "      <td>VE</td>\n",
              "      <td>3625428</td>\n",
              "      <td>es-VE</td>\n",
              "      <td>Venezuela</td>\n",
              "      <td>GY,BR,CO</td>\n",
              "      <td>862</td>\n",
              "      <td>58</td>\n",
              "      <td>27223228</td>\n",
              "      <td>####</td>\n",
              "      <td>^(\\d{4})$</td>\n",
              "      <td>.ve</td>\n",
              "    </tr>\n",
              "  </tbody>\n",
              "</table>\n",
              "</div>"
            ],
            "text/plain": [
              "        alpha_2       area       capital continent currency_code  \\\n",
              "alpha_3                                                            \n",
              "ARG          AR  2766890.0  Buenos Aires        SA           ARS   \n",
              "BOL          BO  1098580.0         Sucre        SA           BOB   \n",
              "CHL          CL   756950.0      Santiago        SA           CLP   \n",
              "COL          CO  1138910.0        Bogota        SA           COP   \n",
              "CUB          CU   110860.0        Havana                     CUP   \n",
              "ECU          EC   283560.0         Quito        SA           USD   \n",
              "ESP          ES   504782.0        Madrid        EU           EUR   \n",
              "HND          HN   112090.0   Tegucigalpa                     HNL   \n",
              "MEX          MX  1972550.0   Mexico City                     MXN   \n",
              "NIC          NI   129494.0       Managua                     NIO   \n",
              "PER          PE  1285220.0          Lima        SA           PEN   \n",
              "PRY          PY   406750.0      Asuncion        SA           PYG   \n",
              "URY          UY   176220.0    Montevideo        SA           UYU   \n",
              "VEN          VE   912050.0       Caracas        SA           VEF   \n",
              "\n",
              "        currency_name eqivalent_fips_code fips  geoname_id  \\\n",
              "alpha_3                                                      \n",
              "ARG              Peso                       AR     3865483   \n",
              "BOL         Boliviano                       BL     3923057   \n",
              "CHL              Peso                       CI     3895114   \n",
              "COL              Peso                       CO     3686110   \n",
              "CUB              Peso                       CU     3562981   \n",
              "ECU            Dollar                       EC     3658394   \n",
              "ESP              Euro                       SP     2510769   \n",
              "HND           Lempira                       HO     3608932   \n",
              "MEX              Peso                       MX     3996063   \n",
              "NIC           Cordoba                       NU     3617476   \n",
              "PER               Sol                       PE     3932488   \n",
              "PRY           Guarani                       PA     3437598   \n",
              "URY              Peso                       UY     3439705   \n",
              "VEN           Bolivar                       VE     3625428   \n",
              "\n",
              "                    languages       name      neighbours  numeric phone  \\\n",
              "alpha_3                                                                   \n",
              "ARG      es-AR,en,it,de,fr,gn  Argentina  CL,BO,UY,PY,BR       32    54   \n",
              "BOL               es-BO,qu,ay    Bolivia  PE,CL,PY,BR,AR       68   591   \n",
              "CHL                     es-CL      Chile        PE,BO,AR      152    56   \n",
              "COL                     es-CO   Colombia  EC,PE,PA,BR,VE      170    57   \n",
              "CUB                     es-CU       Cuba              US      192    53   \n",
              "ECU                     es-EC    Ecuador           PE,CO      218   593   \n",
              "ESP         es-ES,ca,gl,eu,oc      Spain  AD,PT,GI,FR,MA      724    34   \n",
              "HND                     es-HN   Honduras        GT,NI,SV      340   504   \n",
              "MEX                     es-MX     Mexico        GT,US,BZ      484    52   \n",
              "NIC                  es-NI,en  Nicaragua           CR,HN      558   505   \n",
              "PER               es-PE,qu,ay       Peru  EC,CL,BO,BR,CO      604    51   \n",
              "PRY                  es-PY,gn   Paraguay        BO,BR,AR      600   595   \n",
              "URY                     es-UY    Uruguay           BR,AR      858   598   \n",
              "VEN                     es-VE  Venezuela        GY,BR,CO      862    58   \n",
              "\n",
              "         population postal_code_format          postal_code_regex  tld  \n",
              "alpha_3                                                                 \n",
              "ARG        41343201           @####@@@    ^[A-Z]?\\d{4}[A-Z]{0,3}$  .ar  \n",
              "BOL         9947418                                                .bo  \n",
              "CHL        16746491            #######                  ^(\\d{7})$  .cl  \n",
              "COL        47790000                                                .co  \n",
              "CUB        11423000           CP #####           ^(?:CP)*(\\d{5})$  .cu  \n",
              "ECU        14790608             @####@  ^([a-zA-Z]\\d{4}[a-zA-Z])$  .ec  \n",
              "ESP        46505963              #####                  ^(\\d{5})$  .es  \n",
              "HND         7989415             @@####          ^([A-Z]{2}\\d{4})$  .hn  \n",
              "MEX       112468855              #####                  ^(\\d{5})$  .mx  \n",
              "NIC         5995928          ###-###-#                  ^(\\d{7})$  .ni  \n",
              "PER        29907003                                                .pe  \n",
              "PRY         6375830               ####                  ^(\\d{4})$  .py  \n",
              "URY         3477000              #####                  ^(\\d{5})$  .uy  \n",
              "VEN        27223228               ####                  ^(\\d{4})$  .ve  "
            ]
          },
          "execution_count": 84,
          "metadata": {},
          "output_type": "execute_result"
        }
      ],
      "source": [
        "# En este caso, podriamos quitar por \"lo bajo\", area menor a 110.000 km2:\n",
        "df_2 = df_espanol.set_index('alpha_3')\n",
        "df_2 = df_2[df_2['area'] > 110000]\n",
        "df_2"
      ]
    },
    {
      "cell_type": "code",
      "execution_count": null,
      "id": "82d0617a",
      "metadata": {
        "id": "82d0617a",
        "outputId": "0c07202f-ed20-4f06-cf56-7b7ad584d74b"
      },
      "outputs": [
        {
          "data": {
            "text/plain": [
              "<AxesSubplot:xlabel='alpha_3'>"
            ]
          },
          "execution_count": 85,
          "metadata": {},
          "output_type": "execute_result"
        },
        {
          "data": {
            "image/png": "[encoded data removed]",
            "text/plain": [
              "<Figure size 1440x720 with 1 Axes>"
            ]
          },
          "metadata": {
            "needs_background": "light"
          },
          "output_type": "display_data"
        }
      ],
      "source": [
        "df_2[['area']].sort_values([\"area\"]).plot(kind='bar',rot=65,figsize=(20,10))"
      ]
    },
    {
      "cell_type": "code",
      "execution_count": 19,
      "id": "e2383a5f",
      "metadata": {
        "colab": {
          "base_uri": "https://localhost:8080/"
        },
        "id": "e2383a5f",
        "outputId": "ee8d94b0-0e54-43ec-8ba1-c546b6e46a33"
      },
      "outputs": [
        {
          "output_type": "stream",
          "name": "stdout",
          "text": [
            "Initialized empty Git repository in /content/.git/\n"
          ]
        }
      ],
      "source": [
        "!git init"
      ]
    },
    {
      "cell_type": "code",
      "source": [
        "!git commit --message=\"Add my-file\""
      ],
      "metadata": {
        "colab": {
          "base_uri": "https://localhost:8080/"
        },
        "id": "v9w7ora0PezY",
        "outputId": "6dc27741-e17a-4c9a-cf2b-9d93458830ce"
      },
      "id": "v9w7ora0PezY",
      "execution_count": 23,
      "outputs": [
        {
          "output_type": "stream",
          "name": "stdout",
          "text": [
            "\n",
            "*** Please tell me who you are.\n",
            "\n",
            "Run\n",
            "\n",
            "  git config --global user.email \"you@example.com\"\n",
            "  git config --global user.name \"Your Name\"\n",
            "\n",
            "to set your account's default identity.\n",
            "Omit --global to set the identity only in this repository.\n",
            "\n",
            "fatal: unable to auto-detect email address (got 'root@6a76b33f8fab.(none)')\n"
          ]
        }
      ]
    },
    {
      "cell_type": "code",
      "source": [
        "!git config --global user.email \"varelamarcelaa@gmail.com\"\n",
        "!git config --global user.name \"varelita\""
      ],
      "metadata": {
        "id": "ZLG8_spzPopp"
      },
      "id": "ZLG8_spzPopp",
      "execution_count": 25,
      "outputs": []
    },
    {
      "cell_type": "code",
      "source": [
        "!git add MachineLerning-EDA.ipynb"
      ],
      "metadata": {
        "colab": {
          "base_uri": "https://localhost:8080/"
        },
        "id": "kbAvlY-ePF_v",
        "outputId": "81e9f895-59b7-4d22-85aa-601da8da908d"
      },
      "id": "kbAvlY-ePF_v",
      "execution_count": 26,
      "outputs": [
        {
          "output_type": "stream",
          "name": "stdout",
          "text": [
            "fatal: pathspec 'MachineLerning-EDA.ipynb' did not match any files\n"
          ]
        }
      ]
    }
  ],
  "metadata": {
    "kernelspec": {
      "display_name": "Python 3 (ipykernel)",
      "language": "python",
      "name": "python3"
    },
    "language_info": {
      "codemirror_mode": {
        "name": "ipython",
        "version": 3
      },
      "file_extension": ".py",
      "mimetype": "text/x-python",
      "name": "python",
      "nbconvert_exporter": "python",
      "pygments_lexer": "ipython3",
      "version": "3.8.5"
    },
    "colab": {
      "name": "MachineLerning-EDA.ipynb",
      "provenance": [],
      "include_colab_link": true
    }
  },
  "nbformat": 4,
  "nbformat_minor": 5
}